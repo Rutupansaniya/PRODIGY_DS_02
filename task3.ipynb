{
 "cells": [
  {
   "cell_type": "markdown",
   "id": "82c53372",
   "metadata": {},
   "source": [
    "# 🧠 Decision Tree Classifier on Bank Marketing Dataset\n",
    "This notebook builds a decision tree classifier to predict whether a customer will purchase a product based on demographic and behavioral data."
   ]
  },
  {
   "cell_type": "code",
   "execution_count": 10,
   "id": "2dbadcfe",
   "metadata": {},
   "outputs": [
    {
     "name": "stdout",
     "output_type": "stream",
     "text": [
      "Requirement already satisfied: pandas in c:\\users\\temp\\anaconda3\\lib\\site-packages (2.2.2)\n",
      "Requirement already satisfied: scikit-learn in c:\\users\\temp\\anaconda3\\lib\\site-packages (1.5.1)\n",
      "Requirement already satisfied: matplotlib in c:\\users\\temp\\anaconda3\\lib\\site-packages (3.9.2)\n",
      "Requirement already satisfied: seaborn in c:\\users\\temp\\anaconda3\\lib\\site-packages (0.13.2)\n",
      "Requirement already satisfied: numpy>=1.26.0 in c:\\users\\temp\\anaconda3\\lib\\site-packages (from pandas) (1.26.4)\n",
      "Requirement already satisfied: python-dateutil>=2.8.2 in c:\\users\\temp\\anaconda3\\lib\\site-packages (from pandas) (2.9.0.post0)\n",
      "Requirement already satisfied: pytz>=2020.1 in c:\\users\\temp\\anaconda3\\lib\\site-packages (from pandas) (2024.1)\n",
      "Requirement already satisfied: tzdata>=2022.7 in c:\\users\\temp\\anaconda3\\lib\\site-packages (from pandas) (2023.3)\n",
      "Requirement already satisfied: scipy>=1.6.0 in c:\\users\\temp\\anaconda3\\lib\\site-packages (from scikit-learn) (1.13.1)\n",
      "Requirement already satisfied: joblib>=1.2.0 in c:\\users\\temp\\anaconda3\\lib\\site-packages (from scikit-learn) (1.4.2)\n",
      "Requirement already satisfied: threadpoolctl>=3.1.0 in c:\\users\\temp\\anaconda3\\lib\\site-packages (from scikit-learn) (3.5.0)\n",
      "Requirement already satisfied: contourpy>=1.0.1 in c:\\users\\temp\\anaconda3\\lib\\site-packages (from matplotlib) (1.2.0)\n",
      "Requirement already satisfied: cycler>=0.10 in c:\\users\\temp\\anaconda3\\lib\\site-packages (from matplotlib) (0.11.0)\n",
      "Requirement already satisfied: fonttools>=4.22.0 in c:\\users\\temp\\anaconda3\\lib\\site-packages (from matplotlib) (4.51.0)\n",
      "Requirement already satisfied: kiwisolver>=1.3.1 in c:\\users\\temp\\anaconda3\\lib\\site-packages (from matplotlib) (1.4.4)\n",
      "Requirement already satisfied: packaging>=20.0 in c:\\users\\temp\\anaconda3\\lib\\site-packages (from matplotlib) (24.1)\n",
      "Requirement already satisfied: pillow>=8 in c:\\users\\temp\\anaconda3\\lib\\site-packages (from matplotlib) (10.4.0)\n",
      "Requirement already satisfied: pyparsing>=2.3.1 in c:\\users\\temp\\anaconda3\\lib\\site-packages (from matplotlib) (3.1.2)\n",
      "Requirement already satisfied: six>=1.5 in c:\\users\\temp\\anaconda3\\lib\\site-packages (from python-dateutil>=2.8.2->pandas) (1.16.0)\n"
     ]
    }
   ],
   "source": [
    "# 📦 Install required libraries (if not already installed)\n",
    "!pip install pandas scikit-learn matplotlib seaborn"
   ]
  },
  {
   "cell_type": "code",
   "execution_count": 26,
   "id": "6c075c65",
   "metadata": {},
   "outputs": [
    {
     "data": {
      "text/html": [
       "<div>\n",
       "<style scoped>\n",
       "    .dataframe tbody tr th:only-of-type {\n",
       "        vertical-align: middle;\n",
       "    }\n",
       "\n",
       "    .dataframe tbody tr th {\n",
       "        vertical-align: top;\n",
       "    }\n",
       "\n",
       "    .dataframe thead th {\n",
       "        text-align: right;\n",
       "    }\n",
       "</style>\n",
       "<table border=\"1\" class=\"dataframe\">\n",
       "  <thead>\n",
       "    <tr style=\"text-align: right;\">\n",
       "      <th></th>\n",
       "      <th>age</th>\n",
       "      <th>job</th>\n",
       "      <th>marital</th>\n",
       "      <th>education</th>\n",
       "      <th>default</th>\n",
       "      <th>housing</th>\n",
       "      <th>loan</th>\n",
       "      <th>contact</th>\n",
       "      <th>month</th>\n",
       "      <th>day_of_week</th>\n",
       "      <th>...</th>\n",
       "      <th>campaign</th>\n",
       "      <th>pdays</th>\n",
       "      <th>previous</th>\n",
       "      <th>poutcome</th>\n",
       "      <th>emp.var.rate</th>\n",
       "      <th>cons.price.idx</th>\n",
       "      <th>cons.conf.idx</th>\n",
       "      <th>euribor3m</th>\n",
       "      <th>nr.employed</th>\n",
       "      <th>y</th>\n",
       "    </tr>\n",
       "  </thead>\n",
       "  <tbody>\n",
       "    <tr>\n",
       "      <th>0</th>\n",
       "      <td>56</td>\n",
       "      <td>housemaid</td>\n",
       "      <td>married</td>\n",
       "      <td>basic.4y</td>\n",
       "      <td>no</td>\n",
       "      <td>no</td>\n",
       "      <td>no</td>\n",
       "      <td>telephone</td>\n",
       "      <td>may</td>\n",
       "      <td>mon</td>\n",
       "      <td>...</td>\n",
       "      <td>1</td>\n",
       "      <td>999</td>\n",
       "      <td>0</td>\n",
       "      <td>nonexistent</td>\n",
       "      <td>1.1</td>\n",
       "      <td>93.994</td>\n",
       "      <td>-36.4</td>\n",
       "      <td>4.857</td>\n",
       "      <td>5191.0</td>\n",
       "      <td>no</td>\n",
       "    </tr>\n",
       "    <tr>\n",
       "      <th>1</th>\n",
       "      <td>57</td>\n",
       "      <td>services</td>\n",
       "      <td>married</td>\n",
       "      <td>high.school</td>\n",
       "      <td>unknown</td>\n",
       "      <td>no</td>\n",
       "      <td>no</td>\n",
       "      <td>telephone</td>\n",
       "      <td>may</td>\n",
       "      <td>mon</td>\n",
       "      <td>...</td>\n",
       "      <td>1</td>\n",
       "      <td>999</td>\n",
       "      <td>0</td>\n",
       "      <td>nonexistent</td>\n",
       "      <td>1.1</td>\n",
       "      <td>93.994</td>\n",
       "      <td>-36.4</td>\n",
       "      <td>4.857</td>\n",
       "      <td>5191.0</td>\n",
       "      <td>no</td>\n",
       "    </tr>\n",
       "    <tr>\n",
       "      <th>2</th>\n",
       "      <td>37</td>\n",
       "      <td>services</td>\n",
       "      <td>married</td>\n",
       "      <td>high.school</td>\n",
       "      <td>no</td>\n",
       "      <td>yes</td>\n",
       "      <td>no</td>\n",
       "      <td>telephone</td>\n",
       "      <td>may</td>\n",
       "      <td>mon</td>\n",
       "      <td>...</td>\n",
       "      <td>1</td>\n",
       "      <td>999</td>\n",
       "      <td>0</td>\n",
       "      <td>nonexistent</td>\n",
       "      <td>1.1</td>\n",
       "      <td>93.994</td>\n",
       "      <td>-36.4</td>\n",
       "      <td>4.857</td>\n",
       "      <td>5191.0</td>\n",
       "      <td>no</td>\n",
       "    </tr>\n",
       "    <tr>\n",
       "      <th>3</th>\n",
       "      <td>40</td>\n",
       "      <td>admin.</td>\n",
       "      <td>married</td>\n",
       "      <td>basic.6y</td>\n",
       "      <td>no</td>\n",
       "      <td>no</td>\n",
       "      <td>no</td>\n",
       "      <td>telephone</td>\n",
       "      <td>may</td>\n",
       "      <td>mon</td>\n",
       "      <td>...</td>\n",
       "      <td>1</td>\n",
       "      <td>999</td>\n",
       "      <td>0</td>\n",
       "      <td>nonexistent</td>\n",
       "      <td>1.1</td>\n",
       "      <td>93.994</td>\n",
       "      <td>-36.4</td>\n",
       "      <td>4.857</td>\n",
       "      <td>5191.0</td>\n",
       "      <td>no</td>\n",
       "    </tr>\n",
       "    <tr>\n",
       "      <th>4</th>\n",
       "      <td>56</td>\n",
       "      <td>services</td>\n",
       "      <td>married</td>\n",
       "      <td>high.school</td>\n",
       "      <td>no</td>\n",
       "      <td>no</td>\n",
       "      <td>yes</td>\n",
       "      <td>telephone</td>\n",
       "      <td>may</td>\n",
       "      <td>mon</td>\n",
       "      <td>...</td>\n",
       "      <td>1</td>\n",
       "      <td>999</td>\n",
       "      <td>0</td>\n",
       "      <td>nonexistent</td>\n",
       "      <td>1.1</td>\n",
       "      <td>93.994</td>\n",
       "      <td>-36.4</td>\n",
       "      <td>4.857</td>\n",
       "      <td>5191.0</td>\n",
       "      <td>no</td>\n",
       "    </tr>\n",
       "  </tbody>\n",
       "</table>\n",
       "<p>5 rows × 21 columns</p>\n",
       "</div>"
      ],
      "text/plain": [
       "   age        job  marital    education  default housing loan    contact  \\\n",
       "0   56  housemaid  married     basic.4y       no      no   no  telephone   \n",
       "1   57   services  married  high.school  unknown      no   no  telephone   \n",
       "2   37   services  married  high.school       no     yes   no  telephone   \n",
       "3   40     admin.  married     basic.6y       no      no   no  telephone   \n",
       "4   56   services  married  high.school       no      no  yes  telephone   \n",
       "\n",
       "  month day_of_week  ...  campaign  pdays  previous     poutcome emp.var.rate  \\\n",
       "0   may         mon  ...         1    999         0  nonexistent          1.1   \n",
       "1   may         mon  ...         1    999         0  nonexistent          1.1   \n",
       "2   may         mon  ...         1    999         0  nonexistent          1.1   \n",
       "3   may         mon  ...         1    999         0  nonexistent          1.1   \n",
       "4   may         mon  ...         1    999         0  nonexistent          1.1   \n",
       "\n",
       "   cons.price.idx  cons.conf.idx  euribor3m  nr.employed   y  \n",
       "0          93.994          -36.4      4.857       5191.0  no  \n",
       "1          93.994          -36.4      4.857       5191.0  no  \n",
       "2          93.994          -36.4      4.857       5191.0  no  \n",
       "3          93.994          -36.4      4.857       5191.0  no  \n",
       "4          93.994          -36.4      4.857       5191.0  no  \n",
       "\n",
       "[5 rows x 21 columns]"
      ]
     },
     "execution_count": 26,
     "metadata": {},
     "output_type": "execute_result"
    }
   ],
   "source": [
    "# 📥 Load the dataset\n",
    "import pandas as pd\n",
    "\n",
    "df = pd.read_csv(r\"C:\\Users\\temp\\Downloads\\bank-additional\\bank-additional\\bank-additional-full.csv\", sep=\";\")\n",
    "df.head()"
   ]
  },
  {
   "cell_type": "code",
   "execution_count": 28,
   "id": "9ef45e96",
   "metadata": {},
   "outputs": [],
   "source": [
    "# 🧹 Data preprocessing\n",
    "# Drop 'duration' as advised in the dataset description\n",
    "df = df.drop(columns=['duration'])\n",
    "# One-hot encode categorical variables\n",
    "df_encoded = pd.get_dummies(df, drop_first=True)\n",
    "# Define features and target\n",
    "\n",
    "X = df_encoded.drop(\"y_yes\", axis=1)\n",
    "y = df_encoded[\"y_yes\"]"
   ]
  },
  {
   "cell_type": "code",
   "execution_count": 30,
   "id": "eaee8c15",
   "metadata": {},
   "outputs": [],
   "source": [
    "# ✂️ Train/Test split\n",
    "from sklearn.model_selection import train_test_split\n",
    "X_train, X_test, y_train, y_test = train_test_split(X, y, test_size=0.3, random_state=42)"
   ]
  },
  {
   "cell_type": "code",
   "execution_count": 32,
   "id": "fe37ea81",
   "metadata": {},
   "outputs": [
    {
     "data": {
      "text/html": [
       "<style>#sk-container-id-1 {\n",
       "  /* Definition of color scheme common for light and dark mode */\n",
       "  --sklearn-color-text: black;\n",
       "  --sklearn-color-line: gray;\n",
       "  /* Definition of color scheme for unfitted estimators */\n",
       "  --sklearn-color-unfitted-level-0: #fff5e6;\n",
       "  --sklearn-color-unfitted-level-1: #f6e4d2;\n",
       "  --sklearn-color-unfitted-level-2: #ffe0b3;\n",
       "  --sklearn-color-unfitted-level-3: chocolate;\n",
       "  /* Definition of color scheme for fitted estimators */\n",
       "  --sklearn-color-fitted-level-0: #f0f8ff;\n",
       "  --sklearn-color-fitted-level-1: #d4ebff;\n",
       "  --sklearn-color-fitted-level-2: #b3dbfd;\n",
       "  --sklearn-color-fitted-level-3: cornflowerblue;\n",
       "\n",
       "  /* Specific color for light theme */\n",
       "  --sklearn-color-text-on-default-background: var(--sg-text-color, var(--theme-code-foreground, var(--jp-content-font-color1, black)));\n",
       "  --sklearn-color-background: var(--sg-background-color, var(--theme-background, var(--jp-layout-color0, white)));\n",
       "  --sklearn-color-border-box: var(--sg-text-color, var(--theme-code-foreground, var(--jp-content-font-color1, black)));\n",
       "  --sklearn-color-icon: #696969;\n",
       "\n",
       "  @media (prefers-color-scheme: dark) {\n",
       "    /* Redefinition of color scheme for dark theme */\n",
       "    --sklearn-color-text-on-default-background: var(--sg-text-color, var(--theme-code-foreground, var(--jp-content-font-color1, white)));\n",
       "    --sklearn-color-background: var(--sg-background-color, var(--theme-background, var(--jp-layout-color0, #111)));\n",
       "    --sklearn-color-border-box: var(--sg-text-color, var(--theme-code-foreground, var(--jp-content-font-color1, white)));\n",
       "    --sklearn-color-icon: #878787;\n",
       "  }\n",
       "}\n",
       "\n",
       "#sk-container-id-1 {\n",
       "  color: var(--sklearn-color-text);\n",
       "}\n",
       "\n",
       "#sk-container-id-1 pre {\n",
       "  padding: 0;\n",
       "}\n",
       "\n",
       "#sk-container-id-1 input.sk-hidden--visually {\n",
       "  border: 0;\n",
       "  clip: rect(1px 1px 1px 1px);\n",
       "  clip: rect(1px, 1px, 1px, 1px);\n",
       "  height: 1px;\n",
       "  margin: -1px;\n",
       "  overflow: hidden;\n",
       "  padding: 0;\n",
       "  position: absolute;\n",
       "  width: 1px;\n",
       "}\n",
       "\n",
       "#sk-container-id-1 div.sk-dashed-wrapped {\n",
       "  border: 1px dashed var(--sklearn-color-line);\n",
       "  margin: 0 0.4em 0.5em 0.4em;\n",
       "  box-sizing: border-box;\n",
       "  padding-bottom: 0.4em;\n",
       "  background-color: var(--sklearn-color-background);\n",
       "}\n",
       "\n",
       "#sk-container-id-1 div.sk-container {\n",
       "  /* jupyter's `normalize.less` sets `[hidden] { display: none; }`\n",
       "     but bootstrap.min.css set `[hidden] { display: none !important; }`\n",
       "     so we also need the `!important` here to be able to override the\n",
       "     default hidden behavior on the sphinx rendered scikit-learn.org.\n",
       "     See: https://github.com/scikit-learn/scikit-learn/issues/21755 */\n",
       "  display: inline-block !important;\n",
       "  position: relative;\n",
       "}\n",
       "\n",
       "#sk-container-id-1 div.sk-text-repr-fallback {\n",
       "  display: none;\n",
       "}\n",
       "\n",
       "div.sk-parallel-item,\n",
       "div.sk-serial,\n",
       "div.sk-item {\n",
       "  /* draw centered vertical line to link estimators */\n",
       "  background-image: linear-gradient(var(--sklearn-color-text-on-default-background), var(--sklearn-color-text-on-default-background));\n",
       "  background-size: 2px 100%;\n",
       "  background-repeat: no-repeat;\n",
       "  background-position: center center;\n",
       "}\n",
       "\n",
       "/* Parallel-specific style estimator block */\n",
       "\n",
       "#sk-container-id-1 div.sk-parallel-item::after {\n",
       "  content: \"\";\n",
       "  width: 100%;\n",
       "  border-bottom: 2px solid var(--sklearn-color-text-on-default-background);\n",
       "  flex-grow: 1;\n",
       "}\n",
       "\n",
       "#sk-container-id-1 div.sk-parallel {\n",
       "  display: flex;\n",
       "  align-items: stretch;\n",
       "  justify-content: center;\n",
       "  background-color: var(--sklearn-color-background);\n",
       "  position: relative;\n",
       "}\n",
       "\n",
       "#sk-container-id-1 div.sk-parallel-item {\n",
       "  display: flex;\n",
       "  flex-direction: column;\n",
       "}\n",
       "\n",
       "#sk-container-id-1 div.sk-parallel-item:first-child::after {\n",
       "  align-self: flex-end;\n",
       "  width: 50%;\n",
       "}\n",
       "\n",
       "#sk-container-id-1 div.sk-parallel-item:last-child::after {\n",
       "  align-self: flex-start;\n",
       "  width: 50%;\n",
       "}\n",
       "\n",
       "#sk-container-id-1 div.sk-parallel-item:only-child::after {\n",
       "  width: 0;\n",
       "}\n",
       "\n",
       "/* Serial-specific style estimator block */\n",
       "\n",
       "#sk-container-id-1 div.sk-serial {\n",
       "  display: flex;\n",
       "  flex-direction: column;\n",
       "  align-items: center;\n",
       "  background-color: var(--sklearn-color-background);\n",
       "  padding-right: 1em;\n",
       "  padding-left: 1em;\n",
       "}\n",
       "\n",
       "\n",
       "/* Toggleable style: style used for estimator/Pipeline/ColumnTransformer box that is\n",
       "clickable and can be expanded/collapsed.\n",
       "- Pipeline and ColumnTransformer use this feature and define the default style\n",
       "- Estimators will overwrite some part of the style using the `sk-estimator` class\n",
       "*/\n",
       "\n",
       "/* Pipeline and ColumnTransformer style (default) */\n",
       "\n",
       "#sk-container-id-1 div.sk-toggleable {\n",
       "  /* Default theme specific background. It is overwritten whether we have a\n",
       "  specific estimator or a Pipeline/ColumnTransformer */\n",
       "  background-color: var(--sklearn-color-background);\n",
       "}\n",
       "\n",
       "/* Toggleable label */\n",
       "#sk-container-id-1 label.sk-toggleable__label {\n",
       "  cursor: pointer;\n",
       "  display: block;\n",
       "  width: 100%;\n",
       "  margin-bottom: 0;\n",
       "  padding: 0.5em;\n",
       "  box-sizing: border-box;\n",
       "  text-align: center;\n",
       "}\n",
       "\n",
       "#sk-container-id-1 label.sk-toggleable__label-arrow:before {\n",
       "  /* Arrow on the left of the label */\n",
       "  content: \"▸\";\n",
       "  float: left;\n",
       "  margin-right: 0.25em;\n",
       "  color: var(--sklearn-color-icon);\n",
       "}\n",
       "\n",
       "#sk-container-id-1 label.sk-toggleable__label-arrow:hover:before {\n",
       "  color: var(--sklearn-color-text);\n",
       "}\n",
       "\n",
       "/* Toggleable content - dropdown */\n",
       "\n",
       "#sk-container-id-1 div.sk-toggleable__content {\n",
       "  max-height: 0;\n",
       "  max-width: 0;\n",
       "  overflow: hidden;\n",
       "  text-align: left;\n",
       "  /* unfitted */\n",
       "  background-color: var(--sklearn-color-unfitted-level-0);\n",
       "}\n",
       "\n",
       "#sk-container-id-1 div.sk-toggleable__content.fitted {\n",
       "  /* fitted */\n",
       "  background-color: var(--sklearn-color-fitted-level-0);\n",
       "}\n",
       "\n",
       "#sk-container-id-1 div.sk-toggleable__content pre {\n",
       "  margin: 0.2em;\n",
       "  border-radius: 0.25em;\n",
       "  color: var(--sklearn-color-text);\n",
       "  /* unfitted */\n",
       "  background-color: var(--sklearn-color-unfitted-level-0);\n",
       "}\n",
       "\n",
       "#sk-container-id-1 div.sk-toggleable__content.fitted pre {\n",
       "  /* unfitted */\n",
       "  background-color: var(--sklearn-color-fitted-level-0);\n",
       "}\n",
       "\n",
       "#sk-container-id-1 input.sk-toggleable__control:checked~div.sk-toggleable__content {\n",
       "  /* Expand drop-down */\n",
       "  max-height: 200px;\n",
       "  max-width: 100%;\n",
       "  overflow: auto;\n",
       "}\n",
       "\n",
       "#sk-container-id-1 input.sk-toggleable__control:checked~label.sk-toggleable__label-arrow:before {\n",
       "  content: \"▾\";\n",
       "}\n",
       "\n",
       "/* Pipeline/ColumnTransformer-specific style */\n",
       "\n",
       "#sk-container-id-1 div.sk-label input.sk-toggleable__control:checked~label.sk-toggleable__label {\n",
       "  color: var(--sklearn-color-text);\n",
       "  background-color: var(--sklearn-color-unfitted-level-2);\n",
       "}\n",
       "\n",
       "#sk-container-id-1 div.sk-label.fitted input.sk-toggleable__control:checked~label.sk-toggleable__label {\n",
       "  background-color: var(--sklearn-color-fitted-level-2);\n",
       "}\n",
       "\n",
       "/* Estimator-specific style */\n",
       "\n",
       "/* Colorize estimator box */\n",
       "#sk-container-id-1 div.sk-estimator input.sk-toggleable__control:checked~label.sk-toggleable__label {\n",
       "  /* unfitted */\n",
       "  background-color: var(--sklearn-color-unfitted-level-2);\n",
       "}\n",
       "\n",
       "#sk-container-id-1 div.sk-estimator.fitted input.sk-toggleable__control:checked~label.sk-toggleable__label {\n",
       "  /* fitted */\n",
       "  background-color: var(--sklearn-color-fitted-level-2);\n",
       "}\n",
       "\n",
       "#sk-container-id-1 div.sk-label label.sk-toggleable__label,\n",
       "#sk-container-id-1 div.sk-label label {\n",
       "  /* The background is the default theme color */\n",
       "  color: var(--sklearn-color-text-on-default-background);\n",
       "}\n",
       "\n",
       "/* On hover, darken the color of the background */\n",
       "#sk-container-id-1 div.sk-label:hover label.sk-toggleable__label {\n",
       "  color: var(--sklearn-color-text);\n",
       "  background-color: var(--sklearn-color-unfitted-level-2);\n",
       "}\n",
       "\n",
       "/* Label box, darken color on hover, fitted */\n",
       "#sk-container-id-1 div.sk-label.fitted:hover label.sk-toggleable__label.fitted {\n",
       "  color: var(--sklearn-color-text);\n",
       "  background-color: var(--sklearn-color-fitted-level-2);\n",
       "}\n",
       "\n",
       "/* Estimator label */\n",
       "\n",
       "#sk-container-id-1 div.sk-label label {\n",
       "  font-family: monospace;\n",
       "  font-weight: bold;\n",
       "  display: inline-block;\n",
       "  line-height: 1.2em;\n",
       "}\n",
       "\n",
       "#sk-container-id-1 div.sk-label-container {\n",
       "  text-align: center;\n",
       "}\n",
       "\n",
       "/* Estimator-specific */\n",
       "#sk-container-id-1 div.sk-estimator {\n",
       "  font-family: monospace;\n",
       "  border: 1px dotted var(--sklearn-color-border-box);\n",
       "  border-radius: 0.25em;\n",
       "  box-sizing: border-box;\n",
       "  margin-bottom: 0.5em;\n",
       "  /* unfitted */\n",
       "  background-color: var(--sklearn-color-unfitted-level-0);\n",
       "}\n",
       "\n",
       "#sk-container-id-1 div.sk-estimator.fitted {\n",
       "  /* fitted */\n",
       "  background-color: var(--sklearn-color-fitted-level-0);\n",
       "}\n",
       "\n",
       "/* on hover */\n",
       "#sk-container-id-1 div.sk-estimator:hover {\n",
       "  /* unfitted */\n",
       "  background-color: var(--sklearn-color-unfitted-level-2);\n",
       "}\n",
       "\n",
       "#sk-container-id-1 div.sk-estimator.fitted:hover {\n",
       "  /* fitted */\n",
       "  background-color: var(--sklearn-color-fitted-level-2);\n",
       "}\n",
       "\n",
       "/* Specification for estimator info (e.g. \"i\" and \"?\") */\n",
       "\n",
       "/* Common style for \"i\" and \"?\" */\n",
       "\n",
       ".sk-estimator-doc-link,\n",
       "a:link.sk-estimator-doc-link,\n",
       "a:visited.sk-estimator-doc-link {\n",
       "  float: right;\n",
       "  font-size: smaller;\n",
       "  line-height: 1em;\n",
       "  font-family: monospace;\n",
       "  background-color: var(--sklearn-color-background);\n",
       "  border-radius: 1em;\n",
       "  height: 1em;\n",
       "  width: 1em;\n",
       "  text-decoration: none !important;\n",
       "  margin-left: 1ex;\n",
       "  /* unfitted */\n",
       "  border: var(--sklearn-color-unfitted-level-1) 1pt solid;\n",
       "  color: var(--sklearn-color-unfitted-level-1);\n",
       "}\n",
       "\n",
       ".sk-estimator-doc-link.fitted,\n",
       "a:link.sk-estimator-doc-link.fitted,\n",
       "a:visited.sk-estimator-doc-link.fitted {\n",
       "  /* fitted */\n",
       "  border: var(--sklearn-color-fitted-level-1) 1pt solid;\n",
       "  color: var(--sklearn-color-fitted-level-1);\n",
       "}\n",
       "\n",
       "/* On hover */\n",
       "div.sk-estimator:hover .sk-estimator-doc-link:hover,\n",
       ".sk-estimator-doc-link:hover,\n",
       "div.sk-label-container:hover .sk-estimator-doc-link:hover,\n",
       ".sk-estimator-doc-link:hover {\n",
       "  /* unfitted */\n",
       "  background-color: var(--sklearn-color-unfitted-level-3);\n",
       "  color: var(--sklearn-color-background);\n",
       "  text-decoration: none;\n",
       "}\n",
       "\n",
       "div.sk-estimator.fitted:hover .sk-estimator-doc-link.fitted:hover,\n",
       ".sk-estimator-doc-link.fitted:hover,\n",
       "div.sk-label-container:hover .sk-estimator-doc-link.fitted:hover,\n",
       ".sk-estimator-doc-link.fitted:hover {\n",
       "  /* fitted */\n",
       "  background-color: var(--sklearn-color-fitted-level-3);\n",
       "  color: var(--sklearn-color-background);\n",
       "  text-decoration: none;\n",
       "}\n",
       "\n",
       "/* Span, style for the box shown on hovering the info icon */\n",
       ".sk-estimator-doc-link span {\n",
       "  display: none;\n",
       "  z-index: 9999;\n",
       "  position: relative;\n",
       "  font-weight: normal;\n",
       "  right: .2ex;\n",
       "  padding: .5ex;\n",
       "  margin: .5ex;\n",
       "  width: min-content;\n",
       "  min-width: 20ex;\n",
       "  max-width: 50ex;\n",
       "  color: var(--sklearn-color-text);\n",
       "  box-shadow: 2pt 2pt 4pt #999;\n",
       "  /* unfitted */\n",
       "  background: var(--sklearn-color-unfitted-level-0);\n",
       "  border: .5pt solid var(--sklearn-color-unfitted-level-3);\n",
       "}\n",
       "\n",
       ".sk-estimator-doc-link.fitted span {\n",
       "  /* fitted */\n",
       "  background: var(--sklearn-color-fitted-level-0);\n",
       "  border: var(--sklearn-color-fitted-level-3);\n",
       "}\n",
       "\n",
       ".sk-estimator-doc-link:hover span {\n",
       "  display: block;\n",
       "}\n",
       "\n",
       "/* \"?\"-specific style due to the `<a>` HTML tag */\n",
       "\n",
       "#sk-container-id-1 a.estimator_doc_link {\n",
       "  float: right;\n",
       "  font-size: 1rem;\n",
       "  line-height: 1em;\n",
       "  font-family: monospace;\n",
       "  background-color: var(--sklearn-color-background);\n",
       "  border-radius: 1rem;\n",
       "  height: 1rem;\n",
       "  width: 1rem;\n",
       "  text-decoration: none;\n",
       "  /* unfitted */\n",
       "  color: var(--sklearn-color-unfitted-level-1);\n",
       "  border: var(--sklearn-color-unfitted-level-1) 1pt solid;\n",
       "}\n",
       "\n",
       "#sk-container-id-1 a.estimator_doc_link.fitted {\n",
       "  /* fitted */\n",
       "  border: var(--sklearn-color-fitted-level-1) 1pt solid;\n",
       "  color: var(--sklearn-color-fitted-level-1);\n",
       "}\n",
       "\n",
       "/* On hover */\n",
       "#sk-container-id-1 a.estimator_doc_link:hover {\n",
       "  /* unfitted */\n",
       "  background-color: var(--sklearn-color-unfitted-level-3);\n",
       "  color: var(--sklearn-color-background);\n",
       "  text-decoration: none;\n",
       "}\n",
       "\n",
       "#sk-container-id-1 a.estimator_doc_link.fitted:hover {\n",
       "  /* fitted */\n",
       "  background-color: var(--sklearn-color-fitted-level-3);\n",
       "}\n",
       "</style><div id=\"sk-container-id-1\" class=\"sk-top-container\"><div class=\"sk-text-repr-fallback\"><pre>DecisionTreeClassifier(max_depth=5, random_state=42)</pre><b>In a Jupyter environment, please rerun this cell to show the HTML representation or trust the notebook. <br />On GitHub, the HTML representation is unable to render, please try loading this page with nbviewer.org.</b></div><div class=\"sk-container\" hidden><div class=\"sk-item\"><div class=\"sk-estimator fitted sk-toggleable\"><input class=\"sk-toggleable__control sk-hidden--visually\" id=\"sk-estimator-id-1\" type=\"checkbox\" checked><label for=\"sk-estimator-id-1\" class=\"sk-toggleable__label fitted sk-toggleable__label-arrow fitted\">&nbsp;&nbsp;DecisionTreeClassifier<a class=\"sk-estimator-doc-link fitted\" rel=\"noreferrer\" target=\"_blank\" href=\"https://scikit-learn.org/1.5/modules/generated/sklearn.tree.DecisionTreeClassifier.html\">?<span>Documentation for DecisionTreeClassifier</span></a><span class=\"sk-estimator-doc-link fitted\">i<span>Fitted</span></span></label><div class=\"sk-toggleable__content fitted\"><pre>DecisionTreeClassifier(max_depth=5, random_state=42)</pre></div> </div></div></div></div>"
      ],
      "text/plain": [
       "DecisionTreeClassifier(max_depth=5, random_state=42)"
      ]
     },
     "execution_count": 32,
     "metadata": {},
     "output_type": "execute_result"
    }
   ],
   "source": [
    "# 🌳 Train the Decision Tree Classifier\n",
    "from sklearn.tree import DecisionTreeClassifier\n",
    "clf = DecisionTreeClassifier(max_depth=5, random_state=42)\n",
    "clf.fit(X_train, y_train)"
   ]
  },
  {
   "cell_type": "code",
   "execution_count": 34,
   "id": "ad11eba6",
   "metadata": {},
   "outputs": [
    {
     "name": "stdout",
     "output_type": "stream",
     "text": [
      "Accuracy: 0.9002994254268836\n",
      "Confusion Matrix:\n",
      " [[10763   205]\n",
      " [ 1027   362]]\n",
      "Classification Report:\n",
      "               precision    recall  f1-score   support\n",
      "\n",
      "       False       0.91      0.98      0.95     10968\n",
      "        True       0.64      0.26      0.37      1389\n",
      "\n",
      "    accuracy                           0.90     12357\n",
      "   macro avg       0.78      0.62      0.66     12357\n",
      "weighted avg       0.88      0.90      0.88     12357\n",
      "\n"
     ]
    }
   ],
   "source": [
    "# 📈 Evaluate the model\n",
    "from sklearn.metrics import classification_report, confusion_matrix, accuracy_score\n",
    "y_pred = clf.predict(X_test)\n",
    "print(\"Accuracy:\", accuracy_score(y_test, y_pred))\n",
    "print(\"Confusion Matrix:\\n\", confusion_matrix(y_test, y_pred))\n",
    "print(\"Classification Report:\\n\", classification_report(y_test, y_pred))"
   ]
  },
  {
   "cell_type": "code",
   "execution_count": 36,
   "id": "88cd44ef",
   "metadata": {},
   "outputs": [
    {
     "data": {
      "image/png": "[encoded data removed]",
      "text/plain": [
       "<Figure size 2000x1000 with 1 Axes>"
      ]
     },
     "metadata": {},
     "output_type": "display_data"
    }
   ],
   "source": [
    "# 🌳📊 Visualize the Decision Tree\n",
    "import matplotlib.pyplot as plt\n",
    "from sklearn.tree import plot_tree\n",
    "plt.figure(figsize=(20,10))\n",
    "plot_tree(clf, feature_names=X.columns, class_names=['No', 'Yes'], filled=True)\n",
    "plt.show()"
   ]
  },
  {
   "cell_type": "code",
   "execution_count": 42,
   "id": "594491b9-d716-46e2-bf52-57f6b9fe5381",
   "metadata": {},
   "outputs": [
    {
     "data": {
      "application/vnd.plotly.v1+json": {
       "config": {
        "plotlyServerURL": "https://plot.ly"
       },
       "data": [
        {
         "hoverinfo": "none",
         "line": {
          "color": "gray"
         },
         "mode": "lines",
         "type": "scatter",
         "x": [
          0.5,
          0,
          null,
          0,
          -0.25,
          null,
          -0.25,
          -0.375,
          null,
          -0.375,
          -0.4375,
          null,
          -0.4375,
          -0.46875,
          null,
          -0.4375,
          -0.40625,
          null,
          -0.375,
          -0.3125,
          null,
          -0.3125,
          -0.34375,
          null,
          -0.3125,
          -0.28125,
          null,
          -0.25,
          -0.125,
          null,
          -0.125,
          -0.1875,
          null,
          -0.1875,
          -0.21875,
          null,
          -0.1875,
          -0.15625,
          null,
          -0.125,
          -0.0625,
          null,
          -0.0625,
          -0.09375,
          null,
          -0.0625,
          -0.03125,
          null,
          0,
          0.25,
          null,
          0.25,
          0.125,
          null,
          0.125,
          0.0625,
          null,
          0.0625,
          0.03125,
          null,
          0.0625,
          0.09375,
          null,
          0.125,
          0.1875,
          null,
          0.1875,
          0.15625,
          null,
          0.1875,
          0.21875,
          null,
          0.25,
          0.375,
          null,
          0.375,
          0.3125,
          null,
          0.3125,
          0.28125,
          null,
          0.3125,
          0.34375,
          null,
          0.375,
          0.4375,
          null,
          0.4375,
          0.40625,
          null,
          0.4375,
          0.46875,
          null,
          0.5,
          1,
          null,
          1,
          0.75,
          null,
          0.75,
          0.625,
          null,
          0.625,
          0.5625,
          null,
          0.5625,
          0.53125,
          null,
          0.5625,
          0.59375,
          null,
          0.625,
          0.6875,
          null,
          0.6875,
          0.65625,
          null,
          0.6875,
          0.71875,
          null,
          0.75,
          0.875,
          null,
          0.875,
          0.8125,
          null,
          0.8125,
          0.78125,
          null,
          0.8125,
          0.84375,
          null,
          0.875,
          0.9375,
          null,
          0.9375,
          0.90625,
          null,
          0.9375,
          0.96875,
          null,
          1,
          1.25,
          null,
          1.25,
          1.125,
          null,
          1.125,
          1.0625,
          null,
          1.0625,
          1.03125,
          null,
          1.0625,
          1.09375,
          null,
          1.125,
          1.1875,
          null,
          1.1875,
          1.15625,
          null,
          1.1875,
          1.21875,
          null,
          1.25,
          1.375,
          null,
          1.375,
          1.3125,
          null,
          1.3125,
          1.28125,
          null,
          1.3125,
          1.34375,
          null,
          1.375,
          1.4375,
          null,
          1.4375,
          1.40625,
          null,
          1.4375,
          1.46875,
          null
         ],
         "y": [
          1,
          0.85,
          null,
          0.85,
          0.7,
          null,
          0.7,
          0.5499999999999999,
          null,
          0.5499999999999999,
          0.3999999999999999,
          null,
          0.3999999999999999,
          0.24999999999999992,
          null,
          0.3999999999999999,
          0.24999999999999992,
          null,
          0.5499999999999999,
          0.3999999999999999,
          null,
          0.3999999999999999,
          0.24999999999999992,
          null,
          0.3999999999999999,
          0.24999999999999992,
          null,
          0.7,
          0.5499999999999999,
          null,
          0.5499999999999999,
          0.3999999999999999,
          null,
          0.3999999999999999,
          0.24999999999999992,
          null,
          0.3999999999999999,
          0.24999999999999992,
          null,
          0.5499999999999999,
          0.3999999999999999,
          null,
          0.3999999999999999,
          0.24999999999999992,
          null,
          0.3999999999999999,
          0.24999999999999992,
          null,
          0.85,
          0.7,
          null,
          0.7,
          0.5499999999999999,
          null,
          0.5499999999999999,
          0.3999999999999999,
          null,
          0.3999999999999999,
          0.24999999999999992,
          null,
          0.3999999999999999,
          0.24999999999999992,
          null,
          0.5499999999999999,
          0.3999999999999999,
          null,
          0.3999999999999999,
          0.24999999999999992,
          null,
          0.3999999999999999,
          0.24999999999999992,
          null,
          0.7,
          0.5499999999999999,
          null,
          0.5499999999999999,
          0.3999999999999999,
          null,
          0.3999999999999999,
          0.24999999999999992,
          null,
          0.3999999999999999,
          0.24999999999999992,
          null,
          0.5499999999999999,
          0.3999999999999999,
          null,
          0.3999999999999999,
          0.24999999999999992,
          null,
          0.3999999999999999,
          0.24999999999999992,
          null,
          1,
          0.85,
          null,
          0.85,
          0.7,
          null,
          0.7,
          0.5499999999999999,
          null,
          0.5499999999999999,
          0.3999999999999999,
          null,
          0.3999999999999999,
          0.24999999999999992,
          null,
          0.3999999999999999,
          0.24999999999999992,
          null,
          0.5499999999999999,
          0.3999999999999999,
          null,
          0.3999999999999999,
          0.24999999999999992,
          null,
          0.3999999999999999,
          0.24999999999999992,
          null,
          0.7,
          0.5499999999999999,
          null,
          0.5499999999999999,
          0.3999999999999999,
          null,
          0.3999999999999999,
          0.24999999999999992,
          null,
          0.3999999999999999,
          0.24999999999999992,
          null,
          0.5499999999999999,
          0.3999999999999999,
          null,
          0.3999999999999999,
          0.24999999999999992,
          null,
          0.3999999999999999,
          0.24999999999999992,
          null,
          0.85,
          0.7,
          null,
          0.7,
          0.5499999999999999,
          null,
          0.5499999999999999,
          0.3999999999999999,
          null,
          0.3999999999999999,
          0.24999999999999992,
          null,
          0.3999999999999999,
          0.24999999999999992,
          null,
          0.5499999999999999,
          0.3999999999999999,
          null,
          0.3999999999999999,
          0.24999999999999992,
          null,
          0.3999999999999999,
          0.24999999999999992,
          null,
          0.7,
          0.5499999999999999,
          null,
          0.5499999999999999,
          0.3999999999999999,
          null,
          0.3999999999999999,
          0.24999999999999992,
          null,
          0.3999999999999999,
          0.24999999999999992,
          null,
          0.5499999999999999,
          0.3999999999999999,
          null,
          0.3999999999999999,
          0.24999999999999992,
          null,
          0.3999999999999999,
          0.24999999999999992,
          null
         ]
        },
        {
         "marker": {
          "color": "lightblue",
          "line": {
           "color": "darkblue",
           "width": 1.5
          },
          "size": 25
         },
         "mode": "markers+text",
         "text": [
          "nr.employed ≤ 5087.65"
         ],
         "textposition": "top center",
         "type": "scatter",
         "x": [
          0.5
         ],
         "y": [
          1
         ]
        },
        {
         "marker": {
          "color": "lightblue",
          "line": {
           "color": "darkblue",
           "width": 1.5
          },
          "size": 25
         },
         "mode": "markers+text",
         "text": [
          "pdays ≤ 16.50"
         ],
         "textposition": "top center",
         "type": "scatter",
         "x": [
          0
         ],
         "y": [
          0.85
         ]
        },
        {
         "marker": {
          "color": "lightblue",
          "line": {
           "color": "darkblue",
           "width": 1.5
          },
          "size": 25
         },
         "mode": "markers+text",
         "text": [
          "day_of_week_mon ≤ 0.50"
         ],
         "textposition": "top center",
         "type": "scatter",
         "x": [
          -0.25
         ],
         "y": [
          0.7
         ]
        },
        {
         "marker": {
          "color": "lightblue",
          "line": {
           "color": "darkblue",
           "width": 1.5
          },
          "size": 25
         },
         "mode": "markers+text",
         "text": [
          "nr.employed ≤ 5020.50"
         ],
         "textposition": "top center",
         "type": "scatter",
         "x": [
          -0.375
         ],
         "y": [
          0.5499999999999999
         ]
        },
        {
         "marker": {
          "color": "lightblue",
          "line": {
           "color": "darkblue",
           "width": 1.5
          },
          "size": 25
         },
         "mode": "markers+text",
         "text": [
          "campaign ≤ 6.50"
         ],
         "textposition": "top center",
         "type": "scatter",
         "x": [
          -0.4375
         ],
         "y": [
          0.3999999999999999
         ]
        },
        {
         "marker": {
          "color": "lightblue",
          "line": {
           "color": "darkblue",
           "width": 1.5
          },
          "size": 25
         },
         "mode": "markers+text",
         "text": [
          "Leaf: Yes<br>Samples: 1"
         ],
         "textposition": "top center",
         "type": "scatter",
         "x": [
          -0.46875
         ],
         "y": [
          0.24999999999999992
         ]
        },
        {
         "marker": {
          "color": "lightblue",
          "line": {
           "color": "darkblue",
           "width": 1.5
          },
          "size": 25
         },
         "mode": "markers+text",
         "text": [
          "Leaf: No<br>Samples: 1"
         ],
         "textposition": "top center",
         "type": "scatter",
         "x": [
          -0.40625
         ],
         "y": [
          0.24999999999999992
         ]
        },
        {
         "marker": {
          "color": "lightblue",
          "line": {
           "color": "darkblue",
           "width": 1.5
          },
          "size": 25
         },
         "mode": "markers+text",
         "text": [
          "age ≤ 25.50"
         ],
         "textposition": "top center",
         "type": "scatter",
         "x": [
          -0.3125
         ],
         "y": [
          0.3999999999999999
         ]
        },
        {
         "marker": {
          "color": "lightblue",
          "line": {
           "color": "darkblue",
           "width": 1.5
          },
          "size": 25
         },
         "mode": "markers+text",
         "text": [
          "Leaf: No<br>Samples: 1"
         ],
         "textposition": "top center",
         "type": "scatter",
         "x": [
          -0.34375
         ],
         "y": [
          0.24999999999999992
         ]
        },
        {
         "marker": {
          "color": "lightblue",
          "line": {
           "color": "darkblue",
           "width": 1.5
          },
          "size": 25
         },
         "mode": "markers+text",
         "text": [
          "Leaf: Yes<br>Samples: 1"
         ],
         "textposition": "top center",
         "type": "scatter",
         "x": [
          -0.28125
         ],
         "y": [
          0.24999999999999992
         ]
        },
        {
         "marker": {
          "color": "lightblue",
          "line": {
           "color": "darkblue",
           "width": 1.5
          },
          "size": 25
         },
         "mode": "markers+text",
         "text": [
          "marital_single ≤ 0.50"
         ],
         "textposition": "top center",
         "type": "scatter",
         "x": [
          -0.125
         ],
         "y": [
          0.5499999999999999
         ]
        },
        {
         "marker": {
          "color": "lightblue",
          "line": {
           "color": "darkblue",
           "width": 1.5
          },
          "size": 25
         },
         "mode": "markers+text",
         "text": [
          "housing_yes ≤ 0.50"
         ],
         "textposition": "top center",
         "type": "scatter",
         "x": [
          -0.1875
         ],
         "y": [
          0.3999999999999999
         ]
        },
        {
         "marker": {
          "color": "lightblue",
          "line": {
           "color": "darkblue",
           "width": 1.5
          },
          "size": 25
         },
         "mode": "markers+text",
         "text": [
          "Leaf: Yes<br>Samples: 1"
         ],
         "textposition": "top center",
         "type": "scatter",
         "x": [
          -0.21875
         ],
         "y": [
          0.24999999999999992
         ]
        },
        {
         "marker": {
          "color": "lightblue",
          "line": {
           "color": "darkblue",
           "width": 1.5
          },
          "size": 25
         },
         "mode": "markers+text",
         "text": [
          "Leaf: Yes<br>Samples: 1"
         ],
         "textposition": "top center",
         "type": "scatter",
         "x": [
          -0.15625
         ],
         "y": [
          0.24999999999999992
         ]
        },
        {
         "marker": {
          "color": "lightblue",
          "line": {
           "color": "darkblue",
           "width": 1.5
          },
          "size": 25
         },
         "mode": "markers+text",
         "text": [
          "cons.conf.idx ≤ -34.70"
         ],
         "textposition": "top center",
         "type": "scatter",
         "x": [
          -0.0625
         ],
         "y": [
          0.3999999999999999
         ]
        },
        {
         "marker": {
          "color": "lightblue",
          "line": {
           "color": "darkblue",
           "width": 1.5
          },
          "size": 25
         },
         "mode": "markers+text",
         "text": [
          "Leaf: Yes<br>Samples: 1"
         ],
         "textposition": "top center",
         "type": "scatter",
         "x": [
          -0.09375
         ],
         "y": [
          0.24999999999999992
         ]
        },
        {
         "marker": {
          "color": "lightblue",
          "line": {
           "color": "darkblue",
           "width": 1.5
          },
          "size": 25
         },
         "mode": "markers+text",
         "text": [
          "Leaf: No<br>Samples: 1"
         ],
         "textposition": "top center",
         "type": "scatter",
         "x": [
          -0.03125
         ],
         "y": [
          0.24999999999999992
         ]
        },
        {
         "marker": {
          "color": "lightblue",
          "line": {
           "color": "darkblue",
           "width": 1.5
          },
          "size": 25
         },
         "mode": "markers+text",
         "text": [
          "contact_telephone ≤ 0.50"
         ],
         "textposition": "top center",
         "type": "scatter",
         "x": [
          0.25
         ],
         "y": [
          0.7
         ]
        },
        {
         "marker": {
          "color": "lightblue",
          "line": {
           "color": "darkblue",
           "width": 1.5
          },
          "size": 25
         },
         "mode": "markers+text",
         "text": [
          "emp.var.rate ≤ -2.35"
         ],
         "textposition": "top center",
         "type": "scatter",
         "x": [
          0.125
         ],
         "y": [
          0.5499999999999999
         ]
        },
        {
         "marker": {
          "color": "lightblue",
          "line": {
           "color": "darkblue",
           "width": 1.5
          },
          "size": 25
         },
         "mode": "markers+text",
         "text": [
          "cons.price.idx ≤ 92.40"
         ],
         "textposition": "top center",
         "type": "scatter",
         "x": [
          0.0625
         ],
         "y": [
          0.3999999999999999
         ]
        },
        {
         "marker": {
          "color": "lightblue",
          "line": {
           "color": "darkblue",
           "width": 1.5
          },
          "size": 25
         },
         "mode": "markers+text",
         "text": [
          "Leaf: No<br>Samples: 1"
         ],
         "textposition": "top center",
         "type": "scatter",
         "x": [
          0.03125
         ],
         "y": [
          0.24999999999999992
         ]
        },
        {
         "marker": {
          "color": "lightblue",
          "line": {
           "color": "darkblue",
           "width": 1.5
          },
          "size": 25
         },
         "mode": "markers+text",
         "text": [
          "Leaf: No<br>Samples: 1"
         ],
         "textposition": "top center",
         "type": "scatter",
         "x": [
          0.09375
         ],
         "y": [
          0.24999999999999992
         ]
        },
        {
         "marker": {
          "color": "lightblue",
          "line": {
           "color": "darkblue",
           "width": 1.5
          },
          "size": 25
         },
         "mode": "markers+text",
         "text": [
          "previous ≤ 0.50"
         ],
         "textposition": "top center",
         "type": "scatter",
         "x": [
          0.1875
         ],
         "y": [
          0.3999999999999999
         ]
        },
        {
         "marker": {
          "color": "lightblue",
          "line": {
           "color": "darkblue",
           "width": 1.5
          },
          "size": 25
         },
         "mode": "markers+text",
         "text": [
          "Leaf: Yes<br>Samples: 1"
         ],
         "textposition": "top center",
         "type": "scatter",
         "x": [
          0.15625
         ],
         "y": [
          0.24999999999999992
         ]
        },
        {
         "marker": {
          "color": "lightblue",
          "line": {
           "color": "darkblue",
           "width": 1.5
          },
          "size": 25
         },
         "mode": "markers+text",
         "text": [
          "Leaf: No<br>Samples: 1"
         ],
         "textposition": "top center",
         "type": "scatter",
         "x": [
          0.21875
         ],
         "y": [
          0.24999999999999992
         ]
        },
        {
         "marker": {
          "color": "lightblue",
          "line": {
           "color": "darkblue",
           "width": 1.5
          },
          "size": 25
         },
         "mode": "markers+text",
         "text": [
          "euribor3m ≤ 0.67"
         ],
         "textposition": "top center",
         "type": "scatter",
         "x": [
          0.375
         ],
         "y": [
          0.5499999999999999
         ]
        },
        {
         "marker": {
          "color": "lightblue",
          "line": {
           "color": "darkblue",
           "width": 1.5
          },
          "size": 25
         },
         "mode": "markers+text",
         "text": [
          "cons.price.idx ≤ 93.56"
         ],
         "textposition": "top center",
         "type": "scatter",
         "x": [
          0.3125
         ],
         "y": [
          0.3999999999999999
         ]
        },
        {
         "marker": {
          "color": "lightblue",
          "line": {
           "color": "darkblue",
           "width": 1.5
          },
          "size": 25
         },
         "mode": "markers+text",
         "text": [
          "Leaf: No<br>Samples: 1"
         ],
         "textposition": "top center",
         "type": "scatter",
         "x": [
          0.28125
         ],
         "y": [
          0.24999999999999992
         ]
        },
        {
         "marker": {
          "color": "lightblue",
          "line": {
           "color": "darkblue",
           "width": 1.5
          },
          "size": 25
         },
         "mode": "markers+text",
         "text": [
          "Leaf: Yes<br>Samples: 1"
         ],
         "textposition": "top center",
         "type": "scatter",
         "x": [
          0.34375
         ],
         "y": [
          0.24999999999999992
         ]
        },
        {
         "marker": {
          "color": "lightblue",
          "line": {
           "color": "darkblue",
           "width": 1.5
          },
          "size": 25
         },
         "mode": "markers+text",
         "text": [
          "cons.conf.idx ≤ -35.55"
         ],
         "textposition": "top center",
         "type": "scatter",
         "x": [
          0.4375
         ],
         "y": [
          0.3999999999999999
         ]
        },
        {
         "marker": {
          "color": "lightblue",
          "line": {
           "color": "darkblue",
           "width": 1.5
          },
          "size": 25
         },
         "mode": "markers+text",
         "text": [
          "Leaf: No<br>Samples: 1"
         ],
         "textposition": "top center",
         "type": "scatter",
         "x": [
          0.40625
         ],
         "y": [
          0.24999999999999992
         ]
        },
        {
         "marker": {
          "color": "lightblue",
          "line": {
           "color": "darkblue",
           "width": 1.5
          },
          "size": 25
         },
         "mode": "markers+text",
         "text": [
          "Leaf: No<br>Samples: 1"
         ],
         "textposition": "top center",
         "type": "scatter",
         "x": [
          0.46875
         ],
         "y": [
          0.24999999999999992
         ]
        },
        {
         "marker": {
          "color": "lightblue",
          "line": {
           "color": "darkblue",
           "width": 1.5
          },
          "size": 25
         },
         "mode": "markers+text",
         "text": [
          "cons.conf.idx ≤ -46.65"
         ],
         "textposition": "top center",
         "type": "scatter",
         "x": [
          1
         ],
         "y": [
          0.85
         ]
        },
        {
         "marker": {
          "color": "lightblue",
          "line": {
           "color": "darkblue",
           "width": 1.5
          },
          "size": 25
         },
         "mode": "markers+text",
         "text": [
          "euribor3m ≤ 1.38"
         ],
         "textposition": "top center",
         "type": "scatter",
         "x": [
          0.75
         ],
         "y": [
          0.7
         ]
        },
        {
         "marker": {
          "color": "lightblue",
          "line": {
           "color": "darkblue",
           "width": 1.5
          },
          "size": 25
         },
         "mode": "markers+text",
         "text": [
          "pdays ≤ 6.50"
         ],
         "textposition": "top center",
         "type": "scatter",
         "x": [
          0.625
         ],
         "y": [
          0.5499999999999999
         ]
        },
        {
         "marker": {
          "color": "lightblue",
          "line": {
           "color": "darkblue",
           "width": 1.5
          },
          "size": 25
         },
         "mode": "markers+text",
         "text": [
          "age ≤ 67.50"
         ],
         "textposition": "top center",
         "type": "scatter",
         "x": [
          0.5625
         ],
         "y": [
          0.3999999999999999
         ]
        },
        {
         "marker": {
          "color": "lightblue",
          "line": {
           "color": "darkblue",
           "width": 1.5
          },
          "size": 25
         },
         "mode": "markers+text",
         "text": [
          "Leaf: Yes<br>Samples: 1"
         ],
         "textposition": "top center",
         "type": "scatter",
         "x": [
          0.53125
         ],
         "y": [
          0.24999999999999992
         ]
        },
        {
         "marker": {
          "color": "lightblue",
          "line": {
           "color": "darkblue",
           "width": 1.5
          },
          "size": 25
         },
         "mode": "markers+text",
         "text": [
          "Leaf: No<br>Samples: 1"
         ],
         "textposition": "top center",
         "type": "scatter",
         "x": [
          0.59375
         ],
         "y": [
          0.24999999999999992
         ]
        },
        {
         "marker": {
          "color": "lightblue",
          "line": {
           "color": "darkblue",
           "width": 1.5
          },
          "size": 25
         },
         "mode": "markers+text",
         "text": [
          "campaign ≤ 3.50"
         ],
         "textposition": "top center",
         "type": "scatter",
         "x": [
          0.6875
         ],
         "y": [
          0.3999999999999999
         ]
        },
        {
         "marker": {
          "color": "lightblue",
          "line": {
           "color": "darkblue",
           "width": 1.5
          },
          "size": 25
         },
         "mode": "markers+text",
         "text": [
          "Leaf: No<br>Samples: 1"
         ],
         "textposition": "top center",
         "type": "scatter",
         "x": [
          0.65625
         ],
         "y": [
          0.24999999999999992
         ]
        },
        {
         "marker": {
          "color": "lightblue",
          "line": {
           "color": "darkblue",
           "width": 1.5
          },
          "size": 25
         },
         "mode": "markers+text",
         "text": [
          "Leaf: No<br>Samples: 1"
         ],
         "textposition": "top center",
         "type": "scatter",
         "x": [
          0.71875
         ],
         "y": [
          0.24999999999999992
         ]
        },
        {
         "marker": {
          "color": "lightblue",
          "line": {
           "color": "darkblue",
           "width": 1.5
          },
          "size": 25
         },
         "mode": "markers+text",
         "text": [
          "euribor3m ≤ 1.53"
         ],
         "textposition": "top center",
         "type": "scatter",
         "x": [
          0.875
         ],
         "y": [
          0.5499999999999999
         ]
        },
        {
         "marker": {
          "color": "lightblue",
          "line": {
           "color": "darkblue",
           "width": 1.5
          },
          "size": 25
         },
         "mode": "markers+text",
         "text": [
          "age ≤ 26.50"
         ],
         "textposition": "top center",
         "type": "scatter",
         "x": [
          0.8125
         ],
         "y": [
          0.3999999999999999
         ]
        },
        {
         "marker": {
          "color": "lightblue",
          "line": {
           "color": "darkblue",
           "width": 1.5
          },
          "size": 25
         },
         "mode": "markers+text",
         "text": [
          "Leaf: No<br>Samples: 1"
         ],
         "textposition": "top center",
         "type": "scatter",
         "x": [
          0.78125
         ],
         "y": [
          0.24999999999999992
         ]
        },
        {
         "marker": {
          "color": "lightblue",
          "line": {
           "color": "darkblue",
           "width": 1.5
          },
          "size": 25
         },
         "mode": "markers+text",
         "text": [
          "Leaf: No<br>Samples: 1"
         ],
         "textposition": "top center",
         "type": "scatter",
         "x": [
          0.84375
         ],
         "y": [
          0.24999999999999992
         ]
        },
        {
         "marker": {
          "color": "lightblue",
          "line": {
           "color": "darkblue",
           "width": 1.5
          },
          "size": 25
         },
         "mode": "markers+text",
         "text": [
          "day_of_week_wed ≤ 0.50"
         ],
         "textposition": "top center",
         "type": "scatter",
         "x": [
          0.9375
         ],
         "y": [
          0.3999999999999999
         ]
        },
        {
         "marker": {
          "color": "lightblue",
          "line": {
           "color": "darkblue",
           "width": 1.5
          },
          "size": 25
         },
         "mode": "markers+text",
         "text": [
          "Leaf: No<br>Samples: 1"
         ],
         "textposition": "top center",
         "type": "scatter",
         "x": [
          0.90625
         ],
         "y": [
          0.24999999999999992
         ]
        },
        {
         "marker": {
          "color": "lightblue",
          "line": {
           "color": "darkblue",
           "width": 1.5
          },
          "size": 25
         },
         "mode": "markers+text",
         "text": [
          "Leaf: Yes<br>Samples: 1"
         ],
         "textposition": "top center",
         "type": "scatter",
         "x": [
          0.96875
         ],
         "y": [
          0.24999999999999992
         ]
        },
        {
         "marker": {
          "color": "lightblue",
          "line": {
           "color": "darkblue",
           "width": 1.5
          },
          "size": 25
         },
         "mode": "markers+text",
         "text": [
          "month_oct ≤ 0.50"
         ],
         "textposition": "top center",
         "type": "scatter",
         "x": [
          1.25
         ],
         "y": [
          0.7
         ]
        },
        {
         "marker": {
          "color": "lightblue",
          "line": {
           "color": "darkblue",
           "width": 1.5
          },
          "size": 25
         },
         "mode": "markers+text",
         "text": [
          "pdays ≤ 505.50"
         ],
         "textposition": "top center",
         "type": "scatter",
         "x": [
          1.125
         ],
         "y": [
          0.5499999999999999
         ]
        },
        {
         "marker": {
          "color": "lightblue",
          "line": {
           "color": "darkblue",
           "width": 1.5
          },
          "size": 25
         },
         "mode": "markers+text",
         "text": [
          "education_basic.6y ≤ 0.50"
         ],
         "textposition": "top center",
         "type": "scatter",
         "x": [
          1.0625
         ],
         "y": [
          0.3999999999999999
         ]
        },
        {
         "marker": {
          "color": "lightblue",
          "line": {
           "color": "darkblue",
           "width": 1.5
          },
          "size": 25
         },
         "mode": "markers+text",
         "text": [
          "Leaf: No<br>Samples: 1"
         ],
         "textposition": "top center",
         "type": "scatter",
         "x": [
          1.03125
         ],
         "y": [
          0.24999999999999992
         ]
        },
        {
         "marker": {
          "color": "lightblue",
          "line": {
           "color": "darkblue",
           "width": 1.5
          },
          "size": 25
         },
         "mode": "markers+text",
         "text": [
          "Leaf: Yes<br>Samples: 1"
         ],
         "textposition": "top center",
         "type": "scatter",
         "x": [
          1.09375
         ],
         "y": [
          0.24999999999999992
         ]
        },
        {
         "marker": {
          "color": "lightblue",
          "line": {
           "color": "darkblue",
           "width": 1.5
          },
          "size": 25
         },
         "mode": "markers+text",
         "text": [
          "contact_telephone ≤ 0.50"
         ],
         "textposition": "top center",
         "type": "scatter",
         "x": [
          1.1875
         ],
         "y": [
          0.3999999999999999
         ]
        },
        {
         "marker": {
          "color": "lightblue",
          "line": {
           "color": "darkblue",
           "width": 1.5
          },
          "size": 25
         },
         "mode": "markers+text",
         "text": [
          "Leaf: No<br>Samples: 1"
         ],
         "textposition": "top center",
         "type": "scatter",
         "x": [
          1.15625
         ],
         "y": [
          0.24999999999999992
         ]
        },
        {
         "marker": {
          "color": "lightblue",
          "line": {
           "color": "darkblue",
           "width": 1.5
          },
          "size": 25
         },
         "mode": "markers+text",
         "text": [
          "Leaf: No<br>Samples: 1"
         ],
         "textposition": "top center",
         "type": "scatter",
         "x": [
          1.21875
         ],
         "y": [
          0.24999999999999992
         ]
        },
        {
         "marker": {
          "color": "lightblue",
          "line": {
           "color": "darkblue",
           "width": 1.5
          },
          "size": 25
         },
         "mode": "markers+text",
         "text": [
          "age ≤ 48.50"
         ],
         "textposition": "top center",
         "type": "scatter",
         "x": [
          1.375
         ],
         "y": [
          0.5499999999999999
         ]
        },
        {
         "marker": {
          "color": "lightblue",
          "line": {
           "color": "darkblue",
           "width": 1.5
          },
          "size": 25
         },
         "mode": "markers+text",
         "text": [
          "education_basic.9y ≤ 0.50"
         ],
         "textposition": "top center",
         "type": "scatter",
         "x": [
          1.3125
         ],
         "y": [
          0.3999999999999999
         ]
        },
        {
         "marker": {
          "color": "lightblue",
          "line": {
           "color": "darkblue",
           "width": 1.5
          },
          "size": 25
         },
         "mode": "markers+text",
         "text": [
          "Leaf: Yes<br>Samples: 1"
         ],
         "textposition": "top center",
         "type": "scatter",
         "x": [
          1.28125
         ],
         "y": [
          0.24999999999999992
         ]
        },
        {
         "marker": {
          "color": "lightblue",
          "line": {
           "color": "darkblue",
           "width": 1.5
          },
          "size": 25
         },
         "mode": "markers+text",
         "text": [
          "Leaf: No<br>Samples: 1"
         ],
         "textposition": "top center",
         "type": "scatter",
         "x": [
          1.34375
         ],
         "y": [
          0.24999999999999992
         ]
        },
        {
         "marker": {
          "color": "lightblue",
          "line": {
           "color": "darkblue",
           "width": 1.5
          },
          "size": 25
         },
         "mode": "markers+text",
         "text": [
          "job_unknown ≤ 0.50"
         ],
         "textposition": "top center",
         "type": "scatter",
         "x": [
          1.4375
         ],
         "y": [
          0.3999999999999999
         ]
        },
        {
         "marker": {
          "color": "lightblue",
          "line": {
           "color": "darkblue",
           "width": 1.5
          },
          "size": 25
         },
         "mode": "markers+text",
         "text": [
          "Leaf: No<br>Samples: 1"
         ],
         "textposition": "top center",
         "type": "scatter",
         "x": [
          1.40625
         ],
         "y": [
          0.24999999999999992
         ]
        },
        {
         "marker": {
          "color": "lightblue",
          "line": {
           "color": "darkblue",
           "width": 1.5
          },
          "size": 25
         },
         "mode": "markers+text",
         "text": [
          "Leaf: Yes<br>Samples: 1"
         ],
         "textposition": "top center",
         "type": "scatter",
         "x": [
          1.46875
         ],
         "y": [
          0.24999999999999992
         ]
        }
       ],
       "layout": {
        "autosize": true,
        "dragmode": "zoom",
        "showlegend": false,
        "template": {
         "data": {
          "bar": [
           {
            "error_x": {
             "color": "#2a3f5f"
            },
            "error_y": {
             "color": "#2a3f5f"
            },
            "marker": {
             "line": {
              "color": "#E5ECF6",
              "width": 0.5
             },
             "pattern": {
              "fillmode": "overlay",
              "size": 10,
              "solidity": 0.2
             }
            },
            "type": "bar"
           }
          ],
          "barpolar": [
           {
            "marker": {
             "line": {
              "color": "#E5ECF6",
              "width": 0.5
             },
             "pattern": {
              "fillmode": "overlay",
              "size": 10,
              "solidity": 0.2
             }
            },
            "type": "barpolar"
           }
          ],
          "carpet": [
           {
            "aaxis": {
             "endlinecolor": "#2a3f5f",
             "gridcolor": "white",
             "linecolor": "white",
             "minorgridcolor": "white",
             "startlinecolor": "#2a3f5f"
            },
            "baxis": {
             "endlinecolor": "#2a3f5f",
             "gridcolor": "white",
             "linecolor": "white",
             "minorgridcolor": "white",
             "startlinecolor": "#2a3f5f"
            },
            "type": "carpet"
           }
          ],
          "choropleth": [
           {
            "colorbar": {
             "outlinewidth": 0,
             "ticks": ""
            },
            "type": "choropleth"
           }
          ],
          "contour": [
           {
            "colorbar": {
             "outlinewidth": 0,
             "ticks": ""
            },
            "colorscale": [
             [
              0,
              "#0d0887"
             ],
             [
              0.1111111111111111,
              "#46039f"
             ],
             [
              0.2222222222222222,
              "#7201a8"
             ],
             [
              0.3333333333333333,
              "#9c179e"
             ],
             [
              0.4444444444444444,
              "#bd3786"
             ],
             [
              0.5555555555555556,
              "#d8576b"
             ],
             [
              0.6666666666666666,
              "#ed7953"
             ],
             [
              0.7777777777777778,
              "#fb9f3a"
             ],
             [
              0.8888888888888888,
              "#fdca26"
             ],
             [
              1,
              "#f0f921"
             ]
            ],
            "type": "contour"
           }
          ],
          "contourcarpet": [
           {
            "colorbar": {
             "outlinewidth": 0,
             "ticks": ""
            },
            "type": "contourcarpet"
           }
          ],
          "heatmap": [
           {
            "colorbar": {
             "outlinewidth": 0,
             "ticks": ""
            },
            "colorscale": [
             [
              0,
              "#0d0887"
             ],
             [
              0.1111111111111111,
              "#46039f"
             ],
             [
              0.2222222222222222,
              "#7201a8"
             ],
             [
              0.3333333333333333,
              "#9c179e"
             ],
             [
              0.4444444444444444,
              "#bd3786"
             ],
             [
              0.5555555555555556,
              "#d8576b"
             ],
             [
              0.6666666666666666,
              "#ed7953"
             ],
             [
              0.7777777777777778,
              "#fb9f3a"
             ],
             [
              0.8888888888888888,
              "#fdca26"
             ],
             [
              1,
              "#f0f921"
             ]
            ],
            "type": "heatmap"
           }
          ],
          "heatmapgl": [
           {
            "colorbar": {
             "outlinewidth": 0,
             "ticks": ""
            },
            "colorscale": [
             [
              0,
              "#0d0887"
             ],
             [
              0.1111111111111111,
              "#46039f"
             ],
             [
              0.2222222222222222,
              "#7201a8"
             ],
             [
              0.3333333333333333,
              "#9c179e"
             ],
             [
              0.4444444444444444,
              "#bd3786"
             ],
             [
              0.5555555555555556,
              "#d8576b"
             ],
             [
              0.6666666666666666,
              "#ed7953"
             ],
             [
              0.7777777777777778,
              "#fb9f3a"
             ],
             [
              0.8888888888888888,
              "#fdca26"
             ],
             [
              1,
              "#f0f921"
             ]
            ],
            "type": "heatmapgl"
           }
          ],
          "histogram": [
           {
            "marker": {
             "pattern": {
              "fillmode": "overlay",
              "size": 10,
              "solidity": 0.2
             }
            },
            "type": "histogram"
           }
          ],
          "histogram2d": [
           {
            "colorbar": {
             "outlinewidth": 0,
             "ticks": ""
            },
            "colorscale": [
             [
              0,
              "#0d0887"
             ],
             [
              0.1111111111111111,
              "#46039f"
             ],
             [
              0.2222222222222222,
              "#7201a8"
             ],
             [
              0.3333333333333333,
              "#9c179e"
             ],
             [
              0.4444444444444444,
              "#bd3786"
             ],
             [
              0.5555555555555556,
              "#d8576b"
             ],
             [
              0.6666666666666666,
              "#ed7953"
             ],
             [
              0.7777777777777778,
              "#fb9f3a"
             ],
             [
              0.8888888888888888,
              "#fdca26"
             ],
             [
              1,
              "#f0f921"
             ]
            ],
            "type": "histogram2d"
           }
          ],
          "histogram2dcontour": [
           {
            "colorbar": {
             "outlinewidth": 0,
             "ticks": ""
            },
            "colorscale": [
             [
              0,
              "#0d0887"
             ],
             [
              0.1111111111111111,
              "#46039f"
             ],
             [
              0.2222222222222222,
              "#7201a8"
             ],
             [
              0.3333333333333333,
              "#9c179e"
             ],
             [
              0.4444444444444444,
              "#bd3786"
             ],
             [
              0.5555555555555556,
              "#d8576b"
             ],
             [
              0.6666666666666666,
              "#ed7953"
             ],
             [
              0.7777777777777778,
              "#fb9f3a"
             ],
             [
              0.8888888888888888,
              "#fdca26"
             ],
             [
              1,
              "#f0f921"
             ]
            ],
            "type": "histogram2dcontour"
           }
          ],
          "mesh3d": [
           {
            "colorbar": {
             "outlinewidth": 0,
             "ticks": ""
            },
            "type": "mesh3d"
           }
          ],
          "parcoords": [
           {
            "line": {
             "colorbar": {
              "outlinewidth": 0,
              "ticks": ""
             }
            },
            "type": "parcoords"
           }
          ],
          "pie": [
           {
            "automargin": true,
            "type": "pie"
           }
          ],
          "scatter": [
           {
            "fillpattern": {
             "fillmode": "overlay",
             "size": 10,
             "solidity": 0.2
            },
            "type": "scatter"
           }
          ],
          "scatter3d": [
           {
            "line": {
             "colorbar": {
              "outlinewidth": 0,
              "ticks": ""
             }
            },
            "marker": {
             "colorbar": {
              "outlinewidth": 0,
              "ticks": ""
             }
            },
            "type": "scatter3d"
           }
          ],
          "scattercarpet": [
           {
            "marker": {
             "colorbar": {
              "outlinewidth": 0,
              "ticks": ""
             }
            },
            "type": "scattercarpet"
           }
          ],
          "scattergeo": [
           {
            "marker": {
             "colorbar": {
              "outlinewidth": 0,
              "ticks": ""
             }
            },
            "type": "scattergeo"
           }
          ],
          "scattergl": [
           {
            "marker": {
             "colorbar": {
              "outlinewidth": 0,
              "ticks": ""
             }
            },
            "type": "scattergl"
           }
          ],
          "scattermapbox": [
           {
            "marker": {
             "colorbar": {
              "outlinewidth": 0,
              "ticks": ""
             }
            },
            "type": "scattermapbox"
           }
          ],
          "scatterpolar": [
           {
            "marker": {
             "colorbar": {
              "outlinewidth": 0,
              "ticks": ""
             }
            },
            "type": "scatterpolar"
           }
          ],
          "scatterpolargl": [
           {
            "marker": {
             "colorbar": {
              "outlinewidth": 0,
              "ticks": ""
             }
            },
            "type": "scatterpolargl"
           }
          ],
          "scatterternary": [
           {
            "marker": {
             "colorbar": {
              "outlinewidth": 0,
              "ticks": ""
             }
            },
            "type": "scatterternary"
           }
          ],
          "surface": [
           {
            "colorbar": {
             "outlinewidth": 0,
             "ticks": ""
            },
            "colorscale": [
             [
              0,
              "#0d0887"
             ],
             [
              0.1111111111111111,
              "#46039f"
             ],
             [
              0.2222222222222222,
              "#7201a8"
             ],
             [
              0.3333333333333333,
              "#9c179e"
             ],
             [
              0.4444444444444444,
              "#bd3786"
             ],
             [
              0.5555555555555556,
              "#d8576b"
             ],
             [
              0.6666666666666666,
              "#ed7953"
             ],
             [
              0.7777777777777778,
              "#fb9f3a"
             ],
             [
              0.8888888888888888,
              "#fdca26"
             ],
             [
              1,
              "#f0f921"
             ]
            ],
            "type": "surface"
           }
          ],
          "table": [
           {
            "cells": {
             "fill": {
              "color": "#EBF0F8"
             },
             "line": {
              "color": "white"
             }
            },
            "header": {
             "fill": {
              "color": "#C8D4E3"
             },
             "line": {
              "color": "white"
             }
            },
            "type": "table"
           }
          ]
         },
         "layout": {
          "annotationdefaults": {
           "arrowcolor": "#2a3f5f",
           "arrowhead": 0,
           "arrowwidth": 1
          },
          "autotypenumbers": "strict",
          "coloraxis": {
           "colorbar": {
            "outlinewidth": 0,
            "ticks": ""
           }
          },
          "colorscale": {
           "diverging": [
            [
             0,
             "#8e0152"
            ],
            [
             0.1,
             "#c51b7d"
            ],
            [
             0.2,
             "#de77ae"
            ],
            [
             0.3,
             "#f1b6da"
            ],
            [
             0.4,
             "#fde0ef"
            ],
            [
             0.5,
             "#f7f7f7"
            ],
            [
             0.6,
             "#e6f5d0"
            ],
            [
             0.7,
             "#b8e186"
            ],
            [
             0.8,
             "#7fbc41"
            ],
            [
             0.9,
             "#4d9221"
            ],
            [
             1,
             "#276419"
            ]
           ],
           "sequential": [
            [
             0,
             "#0d0887"
            ],
            [
             0.1111111111111111,
             "#46039f"
            ],
            [
             0.2222222222222222,
             "#7201a8"
            ],
            [
             0.3333333333333333,
             "#9c179e"
            ],
            [
             0.4444444444444444,
             "#bd3786"
            ],
            [
             0.5555555555555556,
             "#d8576b"
            ],
            [
             0.6666666666666666,
             "#ed7953"
            ],
            [
             0.7777777777777778,
             "#fb9f3a"
            ],
            [
             0.8888888888888888,
             "#fdca26"
            ],
            [
             1,
             "#f0f921"
            ]
           ],
           "sequentialminus": [
            [
             0,
             "#0d0887"
            ],
            [
             0.1111111111111111,
             "#46039f"
            ],
            [
             0.2222222222222222,
             "#7201a8"
            ],
            [
             0.3333333333333333,
             "#9c179e"
            ],
            [
             0.4444444444444444,
             "#bd3786"
            ],
            [
             0.5555555555555556,
             "#d8576b"
            ],
            [
             0.6666666666666666,
             "#ed7953"
            ],
            [
             0.7777777777777778,
             "#fb9f3a"
            ],
            [
             0.8888888888888888,
             "#fdca26"
            ],
            [
             1,
             "#f0f921"
            ]
           ]
          },
          "colorway": [
           "#636efa",
           "#EF553B",
           "#00cc96",
           "#ab63fa",
           "#FFA15A",
           "#19d3f3",
           "#FF6692",
           "#B6E880",
           "#FF97FF",
           "#FECB52"
          ],
          "font": {
           "color": "#2a3f5f"
          },
          "geo": {
           "bgcolor": "white",
           "lakecolor": "white",
           "landcolor": "#E5ECF6",
           "showlakes": true,
           "showland": true,
           "subunitcolor": "white"
          },
          "hoverlabel": {
           "align": "left"
          },
          "hovermode": "closest",
          "mapbox": {
           "style": "light"
          },
          "paper_bgcolor": "white",
          "plot_bgcolor": "#E5ECF6",
          "polar": {
           "angularaxis": {
            "gridcolor": "white",
            "linecolor": "white",
            "ticks": ""
           },
           "bgcolor": "#E5ECF6",
           "radialaxis": {
            "gridcolor": "white",
            "linecolor": "white",
            "ticks": ""
           }
          },
          "scene": {
           "xaxis": {
            "backgroundcolor": "#E5ECF6",
            "gridcolor": "white",
            "gridwidth": 2,
            "linecolor": "white",
            "showbackground": true,
            "ticks": "",
            "zerolinecolor": "white"
           },
           "yaxis": {
            "backgroundcolor": "#E5ECF6",
            "gridcolor": "white",
            "gridwidth": 2,
            "linecolor": "white",
            "showbackground": true,
            "ticks": "",
            "zerolinecolor": "white"
           },
           "zaxis": {
            "backgroundcolor": "#E5ECF6",
            "gridcolor": "white",
            "gridwidth": 2,
            "linecolor": "white",
            "showbackground": true,
            "ticks": "",
            "zerolinecolor": "white"
           }
          },
          "shapedefaults": {
           "line": {
            "color": "#2a3f5f"
           }
          },
          "ternary": {
           "aaxis": {
            "gridcolor": "white",
            "linecolor": "white",
            "ticks": ""
           },
           "baxis": {
            "gridcolor": "white",
            "linecolor": "white",
            "ticks": ""
           },
           "bgcolor": "#E5ECF6",
           "caxis": {
            "gridcolor": "white",
            "linecolor": "white",
            "ticks": ""
           }
          },
          "title": {
           "x": 0.05
          },
          "xaxis": {
           "automargin": true,
           "gridcolor": "white",
           "linecolor": "white",
           "ticks": "",
           "title": {
            "standoff": 15
           },
           "zerolinecolor": "white",
           "zerolinewidth": 2
          },
          "yaxis": {
           "automargin": true,
           "gridcolor": "white",
           "linecolor": "white",
           "ticks": "",
           "title": {
            "standoff": 15
           },
           "zerolinecolor": "white",
           "zerolinewidth": 2
          }
         }
        },
        "title": {
         "text": "Decision Tree Visualization (Plotly)"
        },
        "xaxis": {
         "autorange": false,
         "range": [
          -0.4976300226370791,
          0.24920466595970314
         ],
         "showticklabels": false,
         "type": "linear"
        },
        "yaxis": {
         "autorange": false,
         "range": [
          0.2003060281065089,
          0.9090249630177519
         ],
         "showticklabels": false,
         "type": "linear"
        }
       }
      },
      "image/png": "[encoded data removed]",
      "text/html": [
       "<div>                            <div id=\"6de70444-bc39-4f54-964a-d1a2fb70f1eb\" class=\"plotly-graph-div\" style=\"height:700px; width:100%;\"></div>            <script type=\"text/javascript\">                require([\"plotly\"], function(Plotly) {                    window.PLOTLYENV=window.PLOTLYENV || {};                                    if (document.getElementById(\"6de70444-bc39-4f54-964a-d1a2fb70f1eb\")) {                    Plotly.newPlot(                        \"6de70444-bc39-4f54-964a-d1a2fb70f1eb\",                        [{\"hoverinfo\":\"none\",\"line\":{\"color\":\"gray\"},\"mode\":\"lines\",\"x\":[0.5,0.0,null,0.0,-0.25,null,-0.25,-0.375,null,-0.375,-0.4375,null,-0.4375,-0.46875,null,-0.4375,-0.40625,null,-0.375,-0.3125,null,-0.3125,-0.34375,null,-0.3125,-0.28125,null,-0.25,-0.125,null,-0.125,-0.1875,null,-0.1875,-0.21875,null,-0.1875,-0.15625,null,-0.125,-0.0625,null,-0.0625,-0.09375,null,-0.0625,-0.03125,null,0.0,0.25,null,0.25,0.125,null,0.125,0.0625,null,0.0625,0.03125,null,0.0625,0.09375,null,0.125,0.1875,null,0.1875,0.15625,null,0.1875,0.21875,null,0.25,0.375,null,0.375,0.3125,null,0.3125,0.28125,null,0.3125,0.34375,null,0.375,0.4375,null,0.4375,0.40625,null,0.4375,0.46875,null,0.5,1.0,null,1.0,0.75,null,0.75,0.625,null,0.625,0.5625,null,0.5625,0.53125,null,0.5625,0.59375,null,0.625,0.6875,null,0.6875,0.65625,null,0.6875,0.71875,null,0.75,0.875,null,0.875,0.8125,null,0.8125,0.78125,null,0.8125,0.84375,null,0.875,0.9375,null,0.9375,0.90625,null,0.9375,0.96875,null,1.0,1.25,null,1.25,1.125,null,1.125,1.0625,null,1.0625,1.03125,null,1.0625,1.09375,null,1.125,1.1875,null,1.1875,1.15625,null,1.1875,1.21875,null,1.25,1.375,null,1.375,1.3125,null,1.3125,1.28125,null,1.3125,1.34375,null,1.375,1.4375,null,1.4375,1.40625,null,1.4375,1.46875,null],\"y\":[1.0,0.85,null,0.85,0.7,null,0.7,0.5499999999999999,null,0.5499999999999999,0.3999999999999999,null,0.3999999999999999,0.24999999999999992,null,0.3999999999999999,0.24999999999999992,null,0.5499999999999999,0.3999999999999999,null,0.3999999999999999,0.24999999999999992,null,0.3999999999999999,0.24999999999999992,null,0.7,0.5499999999999999,null,0.5499999999999999,0.3999999999999999,null,0.3999999999999999,0.24999999999999992,null,0.3999999999999999,0.24999999999999992,null,0.5499999999999999,0.3999999999999999,null,0.3999999999999999,0.24999999999999992,null,0.3999999999999999,0.24999999999999992,null,0.85,0.7,null,0.7,0.5499999999999999,null,0.5499999999999999,0.3999999999999999,null,0.3999999999999999,0.24999999999999992,null,0.3999999999999999,0.24999999999999992,null,0.5499999999999999,0.3999999999999999,null,0.3999999999999999,0.24999999999999992,null,0.3999999999999999,0.24999999999999992,null,0.7,0.5499999999999999,null,0.5499999999999999,0.3999999999999999,null,0.3999999999999999,0.24999999999999992,null,0.3999999999999999,0.24999999999999992,null,0.5499999999999999,0.3999999999999999,null,0.3999999999999999,0.24999999999999992,null,0.3999999999999999,0.24999999999999992,null,1.0,0.85,null,0.85,0.7,null,0.7,0.5499999999999999,null,0.5499999999999999,0.3999999999999999,null,0.3999999999999999,0.24999999999999992,null,0.3999999999999999,0.24999999999999992,null,0.5499999999999999,0.3999999999999999,null,0.3999999999999999,0.24999999999999992,null,0.3999999999999999,0.24999999999999992,null,0.7,0.5499999999999999,null,0.5499999999999999,0.3999999999999999,null,0.3999999999999999,0.24999999999999992,null,0.3999999999999999,0.24999999999999992,null,0.5499999999999999,0.3999999999999999,null,0.3999999999999999,0.24999999999999992,null,0.3999999999999999,0.24999999999999992,null,0.85,0.7,null,0.7,0.5499999999999999,null,0.5499999999999999,0.3999999999999999,null,0.3999999999999999,0.24999999999999992,null,0.3999999999999999,0.24999999999999992,null,0.5499999999999999,0.3999999999999999,null,0.3999999999999999,0.24999999999999992,null,0.3999999999999999,0.24999999999999992,null,0.7,0.5499999999999999,null,0.5499999999999999,0.3999999999999999,null,0.3999999999999999,0.24999999999999992,null,0.3999999999999999,0.24999999999999992,null,0.5499999999999999,0.3999999999999999,null,0.3999999999999999,0.24999999999999992,null,0.3999999999999999,0.24999999999999992,null],\"type\":\"scatter\"},{\"marker\":{\"color\":\"lightblue\",\"line\":{\"color\":\"darkblue\",\"width\":1.5},\"size\":25},\"mode\":\"markers+text\",\"text\":[\"nr.employed \\u2264 5087.65\"],\"textposition\":\"top center\",\"x\":[0.5],\"y\":[1.0],\"type\":\"scatter\"},{\"marker\":{\"color\":\"lightblue\",\"line\":{\"color\":\"darkblue\",\"width\":1.5},\"size\":25},\"mode\":\"markers+text\",\"text\":[\"pdays \\u2264 16.50\"],\"textposition\":\"top center\",\"x\":[0.0],\"y\":[0.85],\"type\":\"scatter\"},{\"marker\":{\"color\":\"lightblue\",\"line\":{\"color\":\"darkblue\",\"width\":1.5},\"size\":25},\"mode\":\"markers+text\",\"text\":[\"day_of_week_mon \\u2264 0.50\"],\"textposition\":\"top center\",\"x\":[-0.25],\"y\":[0.7],\"type\":\"scatter\"},{\"marker\":{\"color\":\"lightblue\",\"line\":{\"color\":\"darkblue\",\"width\":1.5},\"size\":25},\"mode\":\"markers+text\",\"text\":[\"nr.employed \\u2264 5020.50\"],\"textposition\":\"top center\",\"x\":[-0.375],\"y\":[0.5499999999999999],\"type\":\"scatter\"},{\"marker\":{\"color\":\"lightblue\",\"line\":{\"color\":\"darkblue\",\"width\":1.5},\"size\":25},\"mode\":\"markers+text\",\"text\":[\"campaign \\u2264 6.50\"],\"textposition\":\"top center\",\"x\":[-0.4375],\"y\":[0.3999999999999999],\"type\":\"scatter\"},{\"marker\":{\"color\":\"lightblue\",\"line\":{\"color\":\"darkblue\",\"width\":1.5},\"size\":25},\"mode\":\"markers+text\",\"text\":[\"Leaf: Yes\\u003cbr\\u003eSamples: 1\"],\"textposition\":\"top center\",\"x\":[-0.46875],\"y\":[0.24999999999999992],\"type\":\"scatter\"},{\"marker\":{\"color\":\"lightblue\",\"line\":{\"color\":\"darkblue\",\"width\":1.5},\"size\":25},\"mode\":\"markers+text\",\"text\":[\"Leaf: No\\u003cbr\\u003eSamples: 1\"],\"textposition\":\"top center\",\"x\":[-0.40625],\"y\":[0.24999999999999992],\"type\":\"scatter\"},{\"marker\":{\"color\":\"lightblue\",\"line\":{\"color\":\"darkblue\",\"width\":1.5},\"size\":25},\"mode\":\"markers+text\",\"text\":[\"age \\u2264 25.50\"],\"textposition\":\"top center\",\"x\":[-0.3125],\"y\":[0.3999999999999999],\"type\":\"scatter\"},{\"marker\":{\"color\":\"lightblue\",\"line\":{\"color\":\"darkblue\",\"width\":1.5},\"size\":25},\"mode\":\"markers+text\",\"text\":[\"Leaf: No\\u003cbr\\u003eSamples: 1\"],\"textposition\":\"top center\",\"x\":[-0.34375],\"y\":[0.24999999999999992],\"type\":\"scatter\"},{\"marker\":{\"color\":\"lightblue\",\"line\":{\"color\":\"darkblue\",\"width\":1.5},\"size\":25},\"mode\":\"markers+text\",\"text\":[\"Leaf: Yes\\u003cbr\\u003eSamples: 1\"],\"textposition\":\"top center\",\"x\":[-0.28125],\"y\":[0.24999999999999992],\"type\":\"scatter\"},{\"marker\":{\"color\":\"lightblue\",\"line\":{\"color\":\"darkblue\",\"width\":1.5},\"size\":25},\"mode\":\"markers+text\",\"text\":[\"marital_single \\u2264 0.50\"],\"textposition\":\"top center\",\"x\":[-0.125],\"y\":[0.5499999999999999],\"type\":\"scatter\"},{\"marker\":{\"color\":\"lightblue\",\"line\":{\"color\":\"darkblue\",\"width\":1.5},\"size\":25},\"mode\":\"markers+text\",\"text\":[\"housing_yes \\u2264 0.50\"],\"textposition\":\"top center\",\"x\":[-0.1875],\"y\":[0.3999999999999999],\"type\":\"scatter\"},{\"marker\":{\"color\":\"lightblue\",\"line\":{\"color\":\"darkblue\",\"width\":1.5},\"size\":25},\"mode\":\"markers+text\",\"text\":[\"Leaf: Yes\\u003cbr\\u003eSamples: 1\"],\"textposition\":\"top center\",\"x\":[-0.21875],\"y\":[0.24999999999999992],\"type\":\"scatter\"},{\"marker\":{\"color\":\"lightblue\",\"line\":{\"color\":\"darkblue\",\"width\":1.5},\"size\":25},\"mode\":\"markers+text\",\"text\":[\"Leaf: Yes\\u003cbr\\u003eSamples: 1\"],\"textposition\":\"top center\",\"x\":[-0.15625],\"y\":[0.24999999999999992],\"type\":\"scatter\"},{\"marker\":{\"color\":\"lightblue\",\"line\":{\"color\":\"darkblue\",\"width\":1.5},\"size\":25},\"mode\":\"markers+text\",\"text\":[\"cons.conf.idx \\u2264 -34.70\"],\"textposition\":\"top center\",\"x\":[-0.0625],\"y\":[0.3999999999999999],\"type\":\"scatter\"},{\"marker\":{\"color\":\"lightblue\",\"line\":{\"color\":\"darkblue\",\"width\":1.5},\"size\":25},\"mode\":\"markers+text\",\"text\":[\"Leaf: Yes\\u003cbr\\u003eSamples: 1\"],\"textposition\":\"top center\",\"x\":[-0.09375],\"y\":[0.24999999999999992],\"type\":\"scatter\"},{\"marker\":{\"color\":\"lightblue\",\"line\":{\"color\":\"darkblue\",\"width\":1.5},\"size\":25},\"mode\":\"markers+text\",\"text\":[\"Leaf: No\\u003cbr\\u003eSamples: 1\"],\"textposition\":\"top center\",\"x\":[-0.03125],\"y\":[0.24999999999999992],\"type\":\"scatter\"},{\"marker\":{\"color\":\"lightblue\",\"line\":{\"color\":\"darkblue\",\"width\":1.5},\"size\":25},\"mode\":\"markers+text\",\"text\":[\"contact_telephone \\u2264 0.50\"],\"textposition\":\"top center\",\"x\":[0.25],\"y\":[0.7],\"type\":\"scatter\"},{\"marker\":{\"color\":\"lightblue\",\"line\":{\"color\":\"darkblue\",\"width\":1.5},\"size\":25},\"mode\":\"markers+text\",\"text\":[\"emp.var.rate \\u2264 -2.35\"],\"textposition\":\"top center\",\"x\":[0.125],\"y\":[0.5499999999999999],\"type\":\"scatter\"},{\"marker\":{\"color\":\"lightblue\",\"line\":{\"color\":\"darkblue\",\"width\":1.5},\"size\":25},\"mode\":\"markers+text\",\"text\":[\"cons.price.idx \\u2264 92.40\"],\"textposition\":\"top center\",\"x\":[0.0625],\"y\":[0.3999999999999999],\"type\":\"scatter\"},{\"marker\":{\"color\":\"lightblue\",\"line\":{\"color\":\"darkblue\",\"width\":1.5},\"size\":25},\"mode\":\"markers+text\",\"text\":[\"Leaf: No\\u003cbr\\u003eSamples: 1\"],\"textposition\":\"top center\",\"x\":[0.03125],\"y\":[0.24999999999999992],\"type\":\"scatter\"},{\"marker\":{\"color\":\"lightblue\",\"line\":{\"color\":\"darkblue\",\"width\":1.5},\"size\":25},\"mode\":\"markers+text\",\"text\":[\"Leaf: No\\u003cbr\\u003eSamples: 1\"],\"textposition\":\"top center\",\"x\":[0.09375],\"y\":[0.24999999999999992],\"type\":\"scatter\"},{\"marker\":{\"color\":\"lightblue\",\"line\":{\"color\":\"darkblue\",\"width\":1.5},\"size\":25},\"mode\":\"markers+text\",\"text\":[\"previous \\u2264 0.50\"],\"textposition\":\"top center\",\"x\":[0.1875],\"y\":[0.3999999999999999],\"type\":\"scatter\"},{\"marker\":{\"color\":\"lightblue\",\"line\":{\"color\":\"darkblue\",\"width\":1.5},\"size\":25},\"mode\":\"markers+text\",\"text\":[\"Leaf: Yes\\u003cbr\\u003eSamples: 1\"],\"textposition\":\"top center\",\"x\":[0.15625],\"y\":[0.24999999999999992],\"type\":\"scatter\"},{\"marker\":{\"color\":\"lightblue\",\"line\":{\"color\":\"darkblue\",\"width\":1.5},\"size\":25},\"mode\":\"markers+text\",\"text\":[\"Leaf: No\\u003cbr\\u003eSamples: 1\"],\"textposition\":\"top center\",\"x\":[0.21875],\"y\":[0.24999999999999992],\"type\":\"scatter\"},{\"marker\":{\"color\":\"lightblue\",\"line\":{\"color\":\"darkblue\",\"width\":1.5},\"size\":25},\"mode\":\"markers+text\",\"text\":[\"euribor3m \\u2264 0.67\"],\"textposition\":\"top center\",\"x\":[0.375],\"y\":[0.5499999999999999],\"type\":\"scatter\"},{\"marker\":{\"color\":\"lightblue\",\"line\":{\"color\":\"darkblue\",\"width\":1.5},\"size\":25},\"mode\":\"markers+text\",\"text\":[\"cons.price.idx \\u2264 93.56\"],\"textposition\":\"top center\",\"x\":[0.3125],\"y\":[0.3999999999999999],\"type\":\"scatter\"},{\"marker\":{\"color\":\"lightblue\",\"line\":{\"color\":\"darkblue\",\"width\":1.5},\"size\":25},\"mode\":\"markers+text\",\"text\":[\"Leaf: No\\u003cbr\\u003eSamples: 1\"],\"textposition\":\"top center\",\"x\":[0.28125],\"y\":[0.24999999999999992],\"type\":\"scatter\"},{\"marker\":{\"color\":\"lightblue\",\"line\":{\"color\":\"darkblue\",\"width\":1.5},\"size\":25},\"mode\":\"markers+text\",\"text\":[\"Leaf: Yes\\u003cbr\\u003eSamples: 1\"],\"textposition\":\"top center\",\"x\":[0.34375],\"y\":[0.24999999999999992],\"type\":\"scatter\"},{\"marker\":{\"color\":\"lightblue\",\"line\":{\"color\":\"darkblue\",\"width\":1.5},\"size\":25},\"mode\":\"markers+text\",\"text\":[\"cons.conf.idx \\u2264 -35.55\"],\"textposition\":\"top center\",\"x\":[0.4375],\"y\":[0.3999999999999999],\"type\":\"scatter\"},{\"marker\":{\"color\":\"lightblue\",\"line\":{\"color\":\"darkblue\",\"width\":1.5},\"size\":25},\"mode\":\"markers+text\",\"text\":[\"Leaf: No\\u003cbr\\u003eSamples: 1\"],\"textposition\":\"top center\",\"x\":[0.40625],\"y\":[0.24999999999999992],\"type\":\"scatter\"},{\"marker\":{\"color\":\"lightblue\",\"line\":{\"color\":\"darkblue\",\"width\":1.5},\"size\":25},\"mode\":\"markers+text\",\"text\":[\"Leaf: No\\u003cbr\\u003eSamples: 1\"],\"textposition\":\"top center\",\"x\":[0.46875],\"y\":[0.24999999999999992],\"type\":\"scatter\"},{\"marker\":{\"color\":\"lightblue\",\"line\":{\"color\":\"darkblue\",\"width\":1.5},\"size\":25},\"mode\":\"markers+text\",\"text\":[\"cons.conf.idx \\u2264 -46.65\"],\"textposition\":\"top center\",\"x\":[1.0],\"y\":[0.85],\"type\":\"scatter\"},{\"marker\":{\"color\":\"lightblue\",\"line\":{\"color\":\"darkblue\",\"width\":1.5},\"size\":25},\"mode\":\"markers+text\",\"text\":[\"euribor3m \\u2264 1.38\"],\"textposition\":\"top center\",\"x\":[0.75],\"y\":[0.7],\"type\":\"scatter\"},{\"marker\":{\"color\":\"lightblue\",\"line\":{\"color\":\"darkblue\",\"width\":1.5},\"size\":25},\"mode\":\"markers+text\",\"text\":[\"pdays \\u2264 6.50\"],\"textposition\":\"top center\",\"x\":[0.625],\"y\":[0.5499999999999999],\"type\":\"scatter\"},{\"marker\":{\"color\":\"lightblue\",\"line\":{\"color\":\"darkblue\",\"width\":1.5},\"size\":25},\"mode\":\"markers+text\",\"text\":[\"age \\u2264 67.50\"],\"textposition\":\"top center\",\"x\":[0.5625],\"y\":[0.3999999999999999],\"type\":\"scatter\"},{\"marker\":{\"color\":\"lightblue\",\"line\":{\"color\":\"darkblue\",\"width\":1.5},\"size\":25},\"mode\":\"markers+text\",\"text\":[\"Leaf: Yes\\u003cbr\\u003eSamples: 1\"],\"textposition\":\"top center\",\"x\":[0.53125],\"y\":[0.24999999999999992],\"type\":\"scatter\"},{\"marker\":{\"color\":\"lightblue\",\"line\":{\"color\":\"darkblue\",\"width\":1.5},\"size\":25},\"mode\":\"markers+text\",\"text\":[\"Leaf: No\\u003cbr\\u003eSamples: 1\"],\"textposition\":\"top center\",\"x\":[0.59375],\"y\":[0.24999999999999992],\"type\":\"scatter\"},{\"marker\":{\"color\":\"lightblue\",\"line\":{\"color\":\"darkblue\",\"width\":1.5},\"size\":25},\"mode\":\"markers+text\",\"text\":[\"campaign \\u2264 3.50\"],\"textposition\":\"top center\",\"x\":[0.6875],\"y\":[0.3999999999999999],\"type\":\"scatter\"},{\"marker\":{\"color\":\"lightblue\",\"line\":{\"color\":\"darkblue\",\"width\":1.5},\"size\":25},\"mode\":\"markers+text\",\"text\":[\"Leaf: No\\u003cbr\\u003eSamples: 1\"],\"textposition\":\"top center\",\"x\":[0.65625],\"y\":[0.24999999999999992],\"type\":\"scatter\"},{\"marker\":{\"color\":\"lightblue\",\"line\":{\"color\":\"darkblue\",\"width\":1.5},\"size\":25},\"mode\":\"markers+text\",\"text\":[\"Leaf: No\\u003cbr\\u003eSamples: 1\"],\"textposition\":\"top center\",\"x\":[0.71875],\"y\":[0.24999999999999992],\"type\":\"scatter\"},{\"marker\":{\"color\":\"lightblue\",\"line\":{\"color\":\"darkblue\",\"width\":1.5},\"size\":25},\"mode\":\"markers+text\",\"text\":[\"euribor3m \\u2264 1.53\"],\"textposition\":\"top center\",\"x\":[0.875],\"y\":[0.5499999999999999],\"type\":\"scatter\"},{\"marker\":{\"color\":\"lightblue\",\"line\":{\"color\":\"darkblue\",\"width\":1.5},\"size\":25},\"mode\":\"markers+text\",\"text\":[\"age \\u2264 26.50\"],\"textposition\":\"top center\",\"x\":[0.8125],\"y\":[0.3999999999999999],\"type\":\"scatter\"},{\"marker\":{\"color\":\"lightblue\",\"line\":{\"color\":\"darkblue\",\"width\":1.5},\"size\":25},\"mode\":\"markers+text\",\"text\":[\"Leaf: No\\u003cbr\\u003eSamples: 1\"],\"textposition\":\"top center\",\"x\":[0.78125],\"y\":[0.24999999999999992],\"type\":\"scatter\"},{\"marker\":{\"color\":\"lightblue\",\"line\":{\"color\":\"darkblue\",\"width\":1.5},\"size\":25},\"mode\":\"markers+text\",\"text\":[\"Leaf: No\\u003cbr\\u003eSamples: 1\"],\"textposition\":\"top center\",\"x\":[0.84375],\"y\":[0.24999999999999992],\"type\":\"scatter\"},{\"marker\":{\"color\":\"lightblue\",\"line\":{\"color\":\"darkblue\",\"width\":1.5},\"size\":25},\"mode\":\"markers+text\",\"text\":[\"day_of_week_wed \\u2264 0.50\"],\"textposition\":\"top center\",\"x\":[0.9375],\"y\":[0.3999999999999999],\"type\":\"scatter\"},{\"marker\":{\"color\":\"lightblue\",\"line\":{\"color\":\"darkblue\",\"width\":1.5},\"size\":25},\"mode\":\"markers+text\",\"text\":[\"Leaf: No\\u003cbr\\u003eSamples: 1\"],\"textposition\":\"top center\",\"x\":[0.90625],\"y\":[0.24999999999999992],\"type\":\"scatter\"},{\"marker\":{\"color\":\"lightblue\",\"line\":{\"color\":\"darkblue\",\"width\":1.5},\"size\":25},\"mode\":\"markers+text\",\"text\":[\"Leaf: Yes\\u003cbr\\u003eSamples: 1\"],\"textposition\":\"top center\",\"x\":[0.96875],\"y\":[0.24999999999999992],\"type\":\"scatter\"},{\"marker\":{\"color\":\"lightblue\",\"line\":{\"color\":\"darkblue\",\"width\":1.5},\"size\":25},\"mode\":\"markers+text\",\"text\":[\"month_oct \\u2264 0.50\"],\"textposition\":\"top center\",\"x\":[1.25],\"y\":[0.7],\"type\":\"scatter\"},{\"marker\":{\"color\":\"lightblue\",\"line\":{\"color\":\"darkblue\",\"width\":1.5},\"size\":25},\"mode\":\"markers+text\",\"text\":[\"pdays \\u2264 505.50\"],\"textposition\":\"top center\",\"x\":[1.125],\"y\":[0.5499999999999999],\"type\":\"scatter\"},{\"marker\":{\"color\":\"lightblue\",\"line\":{\"color\":\"darkblue\",\"width\":1.5},\"size\":25},\"mode\":\"markers+text\",\"text\":[\"education_basic.6y \\u2264 0.50\"],\"textposition\":\"top center\",\"x\":[1.0625],\"y\":[0.3999999999999999],\"type\":\"scatter\"},{\"marker\":{\"color\":\"lightblue\",\"line\":{\"color\":\"darkblue\",\"width\":1.5},\"size\":25},\"mode\":\"markers+text\",\"text\":[\"Leaf: No\\u003cbr\\u003eSamples: 1\"],\"textposition\":\"top center\",\"x\":[1.03125],\"y\":[0.24999999999999992],\"type\":\"scatter\"},{\"marker\":{\"color\":\"lightblue\",\"line\":{\"color\":\"darkblue\",\"width\":1.5},\"size\":25},\"mode\":\"markers+text\",\"text\":[\"Leaf: Yes\\u003cbr\\u003eSamples: 1\"],\"textposition\":\"top center\",\"x\":[1.09375],\"y\":[0.24999999999999992],\"type\":\"scatter\"},{\"marker\":{\"color\":\"lightblue\",\"line\":{\"color\":\"darkblue\",\"width\":1.5},\"size\":25},\"mode\":\"markers+text\",\"text\":[\"contact_telephone \\u2264 0.50\"],\"textposition\":\"top center\",\"x\":[1.1875],\"y\":[0.3999999999999999],\"type\":\"scatter\"},{\"marker\":{\"color\":\"lightblue\",\"line\":{\"color\":\"darkblue\",\"width\":1.5},\"size\":25},\"mode\":\"markers+text\",\"text\":[\"Leaf: No\\u003cbr\\u003eSamples: 1\"],\"textposition\":\"top center\",\"x\":[1.15625],\"y\":[0.24999999999999992],\"type\":\"scatter\"},{\"marker\":{\"color\":\"lightblue\",\"line\":{\"color\":\"darkblue\",\"width\":1.5},\"size\":25},\"mode\":\"markers+text\",\"text\":[\"Leaf: No\\u003cbr\\u003eSamples: 1\"],\"textposition\":\"top center\",\"x\":[1.21875],\"y\":[0.24999999999999992],\"type\":\"scatter\"},{\"marker\":{\"color\":\"lightblue\",\"line\":{\"color\":\"darkblue\",\"width\":1.5},\"size\":25},\"mode\":\"markers+text\",\"text\":[\"age \\u2264 48.50\"],\"textposition\":\"top center\",\"x\":[1.375],\"y\":[0.5499999999999999],\"type\":\"scatter\"},{\"marker\":{\"color\":\"lightblue\",\"line\":{\"color\":\"darkblue\",\"width\":1.5},\"size\":25},\"mode\":\"markers+text\",\"text\":[\"education_basic.9y \\u2264 0.50\"],\"textposition\":\"top center\",\"x\":[1.3125],\"y\":[0.3999999999999999],\"type\":\"scatter\"},{\"marker\":{\"color\":\"lightblue\",\"line\":{\"color\":\"darkblue\",\"width\":1.5},\"size\":25},\"mode\":\"markers+text\",\"text\":[\"Leaf: Yes\\u003cbr\\u003eSamples: 1\"],\"textposition\":\"top center\",\"x\":[1.28125],\"y\":[0.24999999999999992],\"type\":\"scatter\"},{\"marker\":{\"color\":\"lightblue\",\"line\":{\"color\":\"darkblue\",\"width\":1.5},\"size\":25},\"mode\":\"markers+text\",\"text\":[\"Leaf: No\\u003cbr\\u003eSamples: 1\"],\"textposition\":\"top center\",\"x\":[1.34375],\"y\":[0.24999999999999992],\"type\":\"scatter\"},{\"marker\":{\"color\":\"lightblue\",\"line\":{\"color\":\"darkblue\",\"width\":1.5},\"size\":25},\"mode\":\"markers+text\",\"text\":[\"job_unknown \\u2264 0.50\"],\"textposition\":\"top center\",\"x\":[1.4375],\"y\":[0.3999999999999999],\"type\":\"scatter\"},{\"marker\":{\"color\":\"lightblue\",\"line\":{\"color\":\"darkblue\",\"width\":1.5},\"size\":25},\"mode\":\"markers+text\",\"text\":[\"Leaf: No\\u003cbr\\u003eSamples: 1\"],\"textposition\":\"top center\",\"x\":[1.40625],\"y\":[0.24999999999999992],\"type\":\"scatter\"},{\"marker\":{\"color\":\"lightblue\",\"line\":{\"color\":\"darkblue\",\"width\":1.5},\"size\":25},\"mode\":\"markers+text\",\"text\":[\"Leaf: Yes\\u003cbr\\u003eSamples: 1\"],\"textposition\":\"top center\",\"x\":[1.46875],\"y\":[0.24999999999999992],\"type\":\"scatter\"}],                        {\"template\":{\"data\":{\"histogram2dcontour\":[{\"type\":\"histogram2dcontour\",\"colorbar\":{\"outlinewidth\":0,\"ticks\":\"\"},\"colorscale\":[[0.0,\"#0d0887\"],[0.1111111111111111,\"#46039f\"],[0.2222222222222222,\"#7201a8\"],[0.3333333333333333,\"#9c179e\"],[0.4444444444444444,\"#bd3786\"],[0.5555555555555556,\"#d8576b\"],[0.6666666666666666,\"#ed7953\"],[0.7777777777777778,\"#fb9f3a\"],[0.8888888888888888,\"#fdca26\"],[1.0,\"#f0f921\"]]}],\"choropleth\":[{\"type\":\"choropleth\",\"colorbar\":{\"outlinewidth\":0,\"ticks\":\"\"}}],\"histogram2d\":[{\"type\":\"histogram2d\",\"colorbar\":{\"outlinewidth\":0,\"ticks\":\"\"},\"colorscale\":[[0.0,\"#0d0887\"],[0.1111111111111111,\"#46039f\"],[0.2222222222222222,\"#7201a8\"],[0.3333333333333333,\"#9c179e\"],[0.4444444444444444,\"#bd3786\"],[0.5555555555555556,\"#d8576b\"],[0.6666666666666666,\"#ed7953\"],[0.7777777777777778,\"#fb9f3a\"],[0.8888888888888888,\"#fdca26\"],[1.0,\"#f0f921\"]]}],\"heatmap\":[{\"type\":\"heatmap\",\"colorbar\":{\"outlinewidth\":0,\"ticks\":\"\"},\"colorscale\":[[0.0,\"#0d0887\"],[0.1111111111111111,\"#46039f\"],[0.2222222222222222,\"#7201a8\"],[0.3333333333333333,\"#9c179e\"],[0.4444444444444444,\"#bd3786\"],[0.5555555555555556,\"#d8576b\"],[0.6666666666666666,\"#ed7953\"],[0.7777777777777778,\"#fb9f3a\"],[0.8888888888888888,\"#fdca26\"],[1.0,\"#f0f921\"]]}],\"heatmapgl\":[{\"type\":\"heatmapgl\",\"colorbar\":{\"outlinewidth\":0,\"ticks\":\"\"},\"colorscale\":[[0.0,\"#0d0887\"],[0.1111111111111111,\"#46039f\"],[0.2222222222222222,\"#7201a8\"],[0.3333333333333333,\"#9c179e\"],[0.4444444444444444,\"#bd3786\"],[0.5555555555555556,\"#d8576b\"],[0.6666666666666666,\"#ed7953\"],[0.7777777777777778,\"#fb9f3a\"],[0.8888888888888888,\"#fdca26\"],[1.0,\"#f0f921\"]]}],\"contourcarpet\":[{\"type\":\"contourcarpet\",\"colorbar\":{\"outlinewidth\":0,\"ticks\":\"\"}}],\"contour\":[{\"type\":\"contour\",\"colorbar\":{\"outlinewidth\":0,\"ticks\":\"\"},\"colorscale\":[[0.0,\"#0d0887\"],[0.1111111111111111,\"#46039f\"],[0.2222222222222222,\"#7201a8\"],[0.3333333333333333,\"#9c179e\"],[0.4444444444444444,\"#bd3786\"],[0.5555555555555556,\"#d8576b\"],[0.6666666666666666,\"#ed7953\"],[0.7777777777777778,\"#fb9f3a\"],[0.8888888888888888,\"#fdca26\"],[1.0,\"#f0f921\"]]}],\"surface\":[{\"type\":\"surface\",\"colorbar\":{\"outlinewidth\":0,\"ticks\":\"\"},\"colorscale\":[[0.0,\"#0d0887\"],[0.1111111111111111,\"#46039f\"],[0.2222222222222222,\"#7201a8\"],[0.3333333333333333,\"#9c179e\"],[0.4444444444444444,\"#bd3786\"],[0.5555555555555556,\"#d8576b\"],[0.6666666666666666,\"#ed7953\"],[0.7777777777777778,\"#fb9f3a\"],[0.8888888888888888,\"#fdca26\"],[1.0,\"#f0f921\"]]}],\"mesh3d\":[{\"type\":\"mesh3d\",\"colorbar\":{\"outlinewidth\":0,\"ticks\":\"\"}}],\"scatter\":[{\"fillpattern\":{\"fillmode\":\"overlay\",\"size\":10,\"solidity\":0.2},\"type\":\"scatter\"}],\"parcoords\":[{\"type\":\"parcoords\",\"line\":{\"colorbar\":{\"outlinewidth\":0,\"ticks\":\"\"}}}],\"scatterpolargl\":[{\"type\":\"scatterpolargl\",\"marker\":{\"colorbar\":{\"outlinewidth\":0,\"ticks\":\"\"}}}],\"bar\":[{\"error_x\":{\"color\":\"#2a3f5f\"},\"error_y\":{\"color\":\"#2a3f5f\"},\"marker\":{\"line\":{\"color\":\"#E5ECF6\",\"width\":0.5},\"pattern\":{\"fillmode\":\"overlay\",\"size\":10,\"solidity\":0.2}},\"type\":\"bar\"}],\"scattergeo\":[{\"type\":\"scattergeo\",\"marker\":{\"colorbar\":{\"outlinewidth\":0,\"ticks\":\"\"}}}],\"scatterpolar\":[{\"type\":\"scatterpolar\",\"marker\":{\"colorbar\":{\"outlinewidth\":0,\"ticks\":\"\"}}}],\"histogram\":[{\"marker\":{\"pattern\":{\"fillmode\":\"overlay\",\"size\":10,\"solidity\":0.2}},\"type\":\"histogram\"}],\"scattergl\":[{\"type\":\"scattergl\",\"marker\":{\"colorbar\":{\"outlinewidth\":0,\"ticks\":\"\"}}}],\"scatter3d\":[{\"type\":\"scatter3d\",\"line\":{\"colorbar\":{\"outlinewidth\":0,\"ticks\":\"\"}},\"marker\":{\"colorbar\":{\"outlinewidth\":0,\"ticks\":\"\"}}}],\"scattermapbox\":[{\"type\":\"scattermapbox\",\"marker\":{\"colorbar\":{\"outlinewidth\":0,\"ticks\":\"\"}}}],\"scatterternary\":[{\"type\":\"scatterternary\",\"marker\":{\"colorbar\":{\"outlinewidth\":0,\"ticks\":\"\"}}}],\"scattercarpet\":[{\"type\":\"scattercarpet\",\"marker\":{\"colorbar\":{\"outlinewidth\":0,\"ticks\":\"\"}}}],\"carpet\":[{\"aaxis\":{\"endlinecolor\":\"#2a3f5f\",\"gridcolor\":\"white\",\"linecolor\":\"white\",\"minorgridcolor\":\"white\",\"startlinecolor\":\"#2a3f5f\"},\"baxis\":{\"endlinecolor\":\"#2a3f5f\",\"gridcolor\":\"white\",\"linecolor\":\"white\",\"minorgridcolor\":\"white\",\"startlinecolor\":\"#2a3f5f\"},\"type\":\"carpet\"}],\"table\":[{\"cells\":{\"fill\":{\"color\":\"#EBF0F8\"},\"line\":{\"color\":\"white\"}},\"header\":{\"fill\":{\"color\":\"#C8D4E3\"},\"line\":{\"color\":\"white\"}},\"type\":\"table\"}],\"barpolar\":[{\"marker\":{\"line\":{\"color\":\"#E5ECF6\",\"width\":0.5},\"pattern\":{\"fillmode\":\"overlay\",\"size\":10,\"solidity\":0.2}},\"type\":\"barpolar\"}],\"pie\":[{\"automargin\":true,\"type\":\"pie\"}]},\"layout\":{\"autotypenumbers\":\"strict\",\"colorway\":[\"#636efa\",\"#EF553B\",\"#00cc96\",\"#ab63fa\",\"#FFA15A\",\"#19d3f3\",\"#FF6692\",\"#B6E880\",\"#FF97FF\",\"#FECB52\"],\"font\":{\"color\":\"#2a3f5f\"},\"hovermode\":\"closest\",\"hoverlabel\":{\"align\":\"left\"},\"paper_bgcolor\":\"white\",\"plot_bgcolor\":\"#E5ECF6\",\"polar\":{\"bgcolor\":\"#E5ECF6\",\"angularaxis\":{\"gridcolor\":\"white\",\"linecolor\":\"white\",\"ticks\":\"\"},\"radialaxis\":{\"gridcolor\":\"white\",\"linecolor\":\"white\",\"ticks\":\"\"}},\"ternary\":{\"bgcolor\":\"#E5ECF6\",\"aaxis\":{\"gridcolor\":\"white\",\"linecolor\":\"white\",\"ticks\":\"\"},\"baxis\":{\"gridcolor\":\"white\",\"linecolor\":\"white\",\"ticks\":\"\"},\"caxis\":{\"gridcolor\":\"white\",\"linecolor\":\"white\",\"ticks\":\"\"}},\"coloraxis\":{\"colorbar\":{\"outlinewidth\":0,\"ticks\":\"\"}},\"colorscale\":{\"sequential\":[[0.0,\"#0d0887\"],[0.1111111111111111,\"#46039f\"],[0.2222222222222222,\"#7201a8\"],[0.3333333333333333,\"#9c179e\"],[0.4444444444444444,\"#bd3786\"],[0.5555555555555556,\"#d8576b\"],[0.6666666666666666,\"#ed7953\"],[0.7777777777777778,\"#fb9f3a\"],[0.8888888888888888,\"#fdca26\"],[1.0,\"#f0f921\"]],\"sequentialminus\":[[0.0,\"#0d0887\"],[0.1111111111111111,\"#46039f\"],[0.2222222222222222,\"#7201a8\"],[0.3333333333333333,\"#9c179e\"],[0.4444444444444444,\"#bd3786\"],[0.5555555555555556,\"#d8576b\"],[0.6666666666666666,\"#ed7953\"],[0.7777777777777778,\"#fb9f3a\"],[0.8888888888888888,\"#fdca26\"],[1.0,\"#f0f921\"]],\"diverging\":[[0,\"#8e0152\"],[0.1,\"#c51b7d\"],[0.2,\"#de77ae\"],[0.3,\"#f1b6da\"],[0.4,\"#fde0ef\"],[0.5,\"#f7f7f7\"],[0.6,\"#e6f5d0\"],[0.7,\"#b8e186\"],[0.8,\"#7fbc41\"],[0.9,\"#4d9221\"],[1,\"#276419\"]]},\"xaxis\":{\"gridcolor\":\"white\",\"linecolor\":\"white\",\"ticks\":\"\",\"title\":{\"standoff\":15},\"zerolinecolor\":\"white\",\"automargin\":true,\"zerolinewidth\":2},\"yaxis\":{\"gridcolor\":\"white\",\"linecolor\":\"white\",\"ticks\":\"\",\"title\":{\"standoff\":15},\"zerolinecolor\":\"white\",\"automargin\":true,\"zerolinewidth\":2},\"scene\":{\"xaxis\":{\"backgroundcolor\":\"#E5ECF6\",\"gridcolor\":\"white\",\"linecolor\":\"white\",\"showbackground\":true,\"ticks\":\"\",\"zerolinecolor\":\"white\",\"gridwidth\":2},\"yaxis\":{\"backgroundcolor\":\"#E5ECF6\",\"gridcolor\":\"white\",\"linecolor\":\"white\",\"showbackground\":true,\"ticks\":\"\",\"zerolinecolor\":\"white\",\"gridwidth\":2},\"zaxis\":{\"backgroundcolor\":\"#E5ECF6\",\"gridcolor\":\"white\",\"linecolor\":\"white\",\"showbackground\":true,\"ticks\":\"\",\"zerolinecolor\":\"white\",\"gridwidth\":2}},\"shapedefaults\":{\"line\":{\"color\":\"#2a3f5f\"}},\"annotationdefaults\":{\"arrowcolor\":\"#2a3f5f\",\"arrowhead\":0,\"arrowwidth\":1},\"geo\":{\"bgcolor\":\"white\",\"landcolor\":\"#E5ECF6\",\"subunitcolor\":\"white\",\"showland\":true,\"showlakes\":true,\"lakecolor\":\"white\"},\"title\":{\"x\":0.05},\"mapbox\":{\"style\":\"light\"}}},\"xaxis\":{\"showticklabels\":false,\"range\":[0,1]},\"yaxis\":{\"showticklabels\":false,\"range\":[0,1.2]},\"showlegend\":false,\"title\":{\"text\":\"Decision Tree Visualization (Plotly)\"},\"height\":700},                        {\"responsive\": true}                    ).then(function(){\n",
       "                            \n",
       "var gd = document.getElementById('6de70444-bc39-4f54-964a-d1a2fb70f1eb');\n",
       "var x = new MutationObserver(function (mutations, observer) {{\n",
       "        var display = window.getComputedStyle(gd).display;\n",
       "        if (!display || display === 'none') {{\n",
       "            console.log([gd, 'removed!']);\n",
       "            Plotly.purge(gd);\n",
       "            observer.disconnect();\n",
       "        }}\n",
       "}});\n",
       "\n",
       "// Listen for the removal of the full notebook cells\n",
       "var notebookContainer = gd.closest('#notebook-container');\n",
       "if (notebookContainer) {{\n",
       "    x.observe(notebookContainer, {childList: true});\n",
       "}}\n",
       "\n",
       "// Listen for the clearing of the current output cell\n",
       "var outputEl = gd.closest('.output');\n",
       "if (outputEl) {{\n",
       "    x.observe(outputEl, {childList: true});\n",
       "}}\n",
       "\n",
       "                        })                };                });            </script>        </div>"
      ]
     },
     "metadata": {},
     "output_type": "display_data"
    }
   ],
   "source": [
    "import plotly.graph_objects as go\n",
    "from sklearn.tree import _tree\n",
    "\n",
    "def plot_tree_plotly(tree, feature_names, class_names):\n",
    "    tree_ = tree.tree_\n",
    "    feature_name = [\n",
    "        feature_names[i] if i != _tree.TREE_UNDEFINED else \"undefined!\"\n",
    "        for i in tree_.feature\n",
    "    ]\n",
    "\n",
    "    def recurse(node, depth=0, x=0.5, y=1.0, dx=1.0):\n",
    "        if tree_.feature[node] != _tree.TREE_UNDEFINED:\n",
    "            name = feature_name[node]\n",
    "            threshold = tree_.threshold[node]\n",
    "\n",
    "            left_x = x - dx / (2 ** (depth + 1))\n",
    "            right_x = x + dx / (2 ** (depth + 1))\n",
    "            new_y = y - 0.15\n",
    "\n",
    "            nodes.append(dict(x=x, y=y, text=f\"{name} ≤ {threshold:.2f}\", node=node))\n",
    "\n",
    "            edges.append(dict(x0=x, y0=y, x1=left_x, y1=new_y))\n",
    "            recurse(tree_.children_left[node], depth + 1, left_x, new_y, dx)\n",
    "\n",
    "            edges.append(dict(x0=x, y0=y, x1=right_x, y1=new_y))\n",
    "            recurse(tree_.children_right[node], depth + 1, right_x, new_y, dx)\n",
    "        else:\n",
    "            value = tree_.value[node][0]\n",
    "            class_label = class_names[value.argmax()]\n",
    "            nodes.append(dict(x=x, y=y, text=f\"Leaf: {class_label}<br>Samples: {int(value.sum())}\", node=node))\n",
    "\n",
    "    nodes = []\n",
    "    edges = []\n",
    "\n",
    "    recurse(0)\n",
    "\n",
    "    edge_x = []\n",
    "    edge_y = []\n",
    "    for edge in edges:\n",
    "        edge_x += [edge[\"x0\"], edge[\"x1\"], None]\n",
    "        edge_y += [edge[\"y0\"], edge[\"y1\"], None]\n",
    "\n",
    "    fig = go.Figure()\n",
    "\n",
    "    fig.add_trace(go.Scatter(\n",
    "        x=edge_x, y=edge_y,\n",
    "        mode='lines',\n",
    "        line=dict(color='gray'),\n",
    "        hoverinfo='none'\n",
    "    ))\n",
    "\n",
    "    for node in nodes:\n",
    "        fig.add_trace(go.Scatter(\n",
    "            x=[node[\"x\"]],\n",
    "            y=[node[\"y\"]],\n",
    "            text=[node[\"text\"]],\n",
    "            mode=\"markers+text\",\n",
    "            textposition=\"top center\",\n",
    "            marker=dict(size=25, color=\"lightblue\", line=dict(width=1.5, color='darkblue'))\n",
    "        ))\n",
    "\n",
    "    fig.update_layout(\n",
    "        showlegend=False,\n",
    "        xaxis=dict(showticklabels=False, range=[0, 1]),\n",
    "        yaxis=dict(showticklabels=False, range=[0, 1.2]),\n",
    "        title=\"Decision Tree Visualization (Plotly)\",\n",
    "        height=700\n",
    "    )\n",
    "\n",
    "    fig.show()\n",
    "\n",
    "# Call with your trained classifier\n",
    "plot_tree_plotly(clf, feature_names=X.columns, class_names=['No', 'Yes'])\n"
   ]
  },
  {
   "cell_type": "code",
   "execution_count": null,
   "id": "e351669a-790c-4c10-a030-e79b1020a4c1",
   "metadata": {},
   "outputs": [],
   "source": []
  }
 ],
 "metadata": {
  "kernelspec": {
   "display_name": "Python [conda env:base] *",
   "language": "python",
   "name": "conda-base-py"
  },
  "language_info": {
   "codemirror_mode": {
    "name": "ipython",
    "version": 3
   },
   "file_extension": ".py",
   "mimetype": "text/x-python",
   "name": "python",
   "nbconvert_exporter": "python",
   "pygments_lexer": "ipython3",
   "version": "3.12.7"
  }
 },
 "nbformat": 4,
 "nbformat_minor": 5
}
